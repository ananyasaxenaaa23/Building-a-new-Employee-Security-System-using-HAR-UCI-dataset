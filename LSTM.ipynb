{
  "nbformat": 4,
  "nbformat_minor": 0,
  "metadata": {
    "colab": {
      "provenance": []
    },
    "kernelspec": {
      "name": "python3",
      "display_name": "Python 3"
    },
    "language_info": {
      "name": "python"
    },
    "accelerator": "GPU",
    "gpuClass": "standard"
  },
  "cells": [
    {
      "cell_type": "code",
      "source": [
        "from google.colab import drive\n",
        "drive.mount('/content/drive')"
      ],
      "metadata": {
        "colab": {
          "base_uri": "https://localhost:8080/"
        },
        "id": "PQf_gzY8LzL8",
        "outputId": "2880345c-6df7-43bc-d723-ed8791019b59"
      },
      "execution_count": null,
      "outputs": [
        {
          "output_type": "stream",
          "name": "stdout",
          "text": [
            "Drive already mounted at /content/drive; to attempt to forcibly remount, call drive.mount(\"/content/drive\", force_remount=True).\n"
          ]
        }
      ]
    },
    {
      "cell_type": "code",
      "execution_count": null,
      "metadata": {
        "id": "PQ6JBycx6JfT"
      },
      "outputs": [],
      "source": [
        "# Importing Libraries\n",
        "\n",
        "import pandas as pd\n",
        "import numpy as np\n",
        "\n",
        "# Import Keras\n",
        "from keras import backend as K\n",
        "from keras.models import Sequential\n",
        "from keras.layers import LSTM\n",
        "from keras.layers.core import Dense, Dropout\n",
        "from keras.layers import BatchNormalization\n",
        "from keras.regularizers import L1L2"
      ]
    },
    {
      "cell_type": "code",
      "source": [
        "# Activities are the class labels\n",
        "# It is a 6 class classification\n",
        "ACTIVITIES = {\n",
        "    0: 'WALKING',\n",
        "    1: 'WALKING_UPSTAIRS',\n",
        "    2: 'WALKING_DOWNSTAIRS',\n",
        "    3: 'SITTING',\n",
        "    4: 'STANDING',\n",
        "    5: 'LAYING',\n",
        "}"
      ],
      "metadata": {
        "id": "dzdbmIMe6Pdt"
      },
      "execution_count": null,
      "outputs": []
    },
    {
      "cell_type": "code",
      "source": [
        "import matplotlib.pyplot as plt\n",
        "import seaborn as sns\n",
        "\n",
        "# function to print the confusion matrix\n",
        "\n",
        "def confusion_matrix(Y_true, Y_pred):\n",
        "    \n",
        "    Y_true = pd.Series([ACTIVITIES[y] for y in np.argmax(Y_true, axis=1)])\n",
        "    Y_pred = pd.Series([ACTIVITIES[y] for y in np.argmax(Y_pred, axis=1)])\n",
        "\n",
        "    return pd.crosstab(Y_true, Y_pred, rownames=['True'], colnames=['Pred'])\n",
        "\n",
        "  \n",
        "    plt.show()  "
      ],
      "metadata": {
        "id": "dUY8gyCC6UX6"
      },
      "execution_count": null,
      "outputs": []
    },
    {
      "cell_type": "markdown",
      "source": [
        "# Loading Data / Making Data\n"
      ],
      "metadata": {
        "id": "09nOfRrJ6jcL"
      }
    },
    {
      "cell_type": "code",
      "source": [
        "# Data directory\n",
        "DATADIR = 'UCI HAR Dataset'\n",
        "SIGNALS = [\n",
        "    \"body_acc_x\",\n",
        "    \"body_acc_y\",\n",
        "    \"body_acc_z\",\n",
        "    \"body_gyro_x\",\n",
        "    \"body_gyro_y\",\n",
        "    \"body_gyro_z\",\n",
        "    \"total_acc_x\",\n",
        "    \"total_acc_y\",\n",
        "    \"total_acc_z\"\n",
        "    ]"
      ],
      "metadata": {
        "id": "PRry8jGD6ZGS"
      },
      "execution_count": null,
      "outputs": []
    },
    {
      "cell_type": "markdown",
      "source": [
        "1. These are Raw data signals which are given in Inertial Signals form.\n",
        "2. Signals are taken from sensors (Accelerometer and Gyroscope).\n",
        "3. The signals are in x,y,z directions that is 3-axial linear acceleration and 3-axial angular velocity.\n",
        "4. Sensor signals are filtered to have only body acceleration.\n",
        "5. Triaxial acceleration from the accelerometer is total acceleration."
      ],
      "metadata": {
        "id": "04fYnA_jYKzx"
      }
    },
    {
      "cell_type": "code",
      "source": [
        "# function to read the data from csv file\n",
        "def _read_csv(filename):\n",
        "    return pd.read_csv(filename, delim_whitespace=True, header=None)\n",
        "\n",
        "# function to load the load\n",
        "def load_signals(subset):\n",
        "    signals_data = []\n",
        "\n",
        "    for signal in SIGNALS:\n",
        "        filename = f'/content/drive/MyDrive/UCI HAR Dataset-20221223T170042Z-001/UCI HAR Dataset/UCI HAR Dataset/{subset}/Inertial Signals/{signal}_{subset}.txt'\n",
        "        \n",
        "        signals_data.append(\n",
        "            _read_csv(filename).to_numpy()\n",
        "        ) \n",
        "\n",
        "   \n",
        "    return np.transpose(signals_data, (1, 2, 0))\n",
        "\n"
      ],
      "metadata": {
        "id": "q6SeriJ56zqA"
      },
      "execution_count": null,
      "outputs": []
    },
    {
      "cell_type": "markdown",
      "source": [
        "1. Transpose is used to change the dimensionality of the output.\n",
        "2. In this we are aggregating the signals by combination of sample/timestep.\n",
        "3. Resultant shape is (7352 train/2947 test samples, 128 timesteps, 9 signals)"
      ],
      "metadata": {
        "id": "TI8WSU_hZZ-N"
      }
    },
    {
      "cell_type": "code",
      "source": [
        "def load_y(subset):\n",
        "    filename = f'/content/drive/MyDrive/UCI HAR Dataset-20221223T170042Z-001/UCI HAR Dataset/UCI HAR Dataset/{subset}/y_{subset}.txt'\n",
        "    y = _read_csv(filename)[0]\n",
        "\n",
        "    return pd.get_dummies(y).to_numpy()\n"
      ],
      "metadata": {
        "id": "lAflhQK0622Y"
      },
      "execution_count": null,
      "outputs": []
    },
    {
      "cell_type": "markdown",
      "source": [
        "This function is made to predict the value if integer between 1 to 6 which means the name of activity performed by the employee."
      ],
      "metadata": {
        "id": "DAV6iSToGNaa"
      }
    },
    {
      "cell_type": "code",
      "source": [
        "def load_data():\n",
        "    X_train, X_test = load_signals('train'), load_signals('test')\n",
        "    y_train, y_test = load_y('train'), load_y('test')\n",
        "\n",
        "    return X_train, X_test, y_train, y_test"
      ],
      "metadata": {
        "id": "_RjlIDBk80wE"
      },
      "execution_count": null,
      "outputs": []
    },
    {
      "cell_type": "markdown",
      "source": [
        "This function is made to obtain the dataset and then returning the X_train, X_test, y_train and y_test."
      ],
      "metadata": {
        "id": "wKfUETSeFhN8"
      }
    },
    {
      "cell_type": "code",
      "source": [
        "# Importing tensorflow\n",
        "np.random.seed(42)\n",
        "import tensorflow as tf\n",
        "tf.random.set_seed(42)"
      ],
      "metadata": {
        "id": "_iWjbP3E8_BN"
      },
      "execution_count": null,
      "outputs": []
    },
    {
      "cell_type": "code",
      "source": [
        "# Initializing parameters\n",
        "epochs = 30\n",
        "batch_size = 16\n",
        "n_hidden = 32"
      ],
      "metadata": {
        "id": "xLUlJZhN9BAr"
      },
      "execution_count": null,
      "outputs": []
    },
    {
      "cell_type": "code",
      "source": [
        "#function to count the number of classes\n",
        "def _count_classes(y):\n",
        "    return len(set([tuple(category) for category in y]))"
      ],
      "metadata": {
        "id": "gqdeqLL59DCI"
      },
      "execution_count": null,
      "outputs": []
    },
    {
      "cell_type": "code",
      "source": [
        "X_train, X_test, Y_train, Y_test = load_data()"
      ],
      "metadata": {
        "id": "_hX1QMNf9Haq"
      },
      "execution_count": null,
      "outputs": []
    },
    {
      "cell_type": "code",
      "source": [
        "timesteps = len(X_train[0])\n",
        "input_dim = len(X_train[0][0])\n",
        "n_classes = _count_classes(Y_train)\n",
        "\n",
        "print(timesteps)\n",
        "print(input_dim)\n",
        "print(len(X_train))"
      ],
      "metadata": {
        "id": "jcBvyztZ9JRz",
        "colab": {
          "base_uri": "https://localhost:8080/"
        },
        "outputId": "e0cc9e21-8c8d-4e81-9af5-13eeb80b7d1c"
      },
      "execution_count": null,
      "outputs": [
        {
          "output_type": "stream",
          "name": "stdout",
          "text": [
            "128\n",
            "9\n",
            "7352\n"
          ]
        }
      ]
    },
    {
      "cell_type": "code",
      "source": [
        "# Initiliazing the sequential model\n",
        "model = Sequential()\n",
        "# Configuring the parameters\n",
        "model.add(LSTM(n_hidden, input_shape=(timesteps, input_dim)))\n",
        "# Adding a dropout layer\n",
        "model.add(Dropout(0.5))\n",
        "# Adding a dense output layer with sigmoid activation\n",
        "model.add(Dense(n_classes, activation='sigmoid'))\n",
        "model.summary()"
      ],
      "metadata": {
        "id": "ORrE5sNnAubK",
        "colab": {
          "base_uri": "https://localhost:8080/"
        },
        "outputId": "338c1ac3-3569-4431-f4ab-9cb211eb8cac"
      },
      "execution_count": null,
      "outputs": [
        {
          "output_type": "stream",
          "name": "stdout",
          "text": [
            "Model: \"sequential_1\"\n",
            "_________________________________________________________________\n",
            " Layer (type)                Output Shape              Param #   \n",
            "=================================================================\n",
            " lstm (LSTM)                 (None, 32)                5376      \n",
            "                                                                 \n",
            " dropout (Dropout)           (None, 32)                0         \n",
            "                                                                 \n",
            " dense (Dense)               (None, 6)                 198       \n",
            "                                                                 \n",
            "=================================================================\n",
            "Total params: 5,574\n",
            "Trainable params: 5,574\n",
            "Non-trainable params: 0\n",
            "_________________________________________________________________\n"
          ]
        }
      ]
    },
    {
      "cell_type": "code",
      "source": [
        "# Compiling the model\n",
        "model.compile(loss='categorical_crossentropy', optimizer='rmsprop', metrics=['accuracy'])"
      ],
      "metadata": {
        "id": "BnMHaifXLEv5"
      },
      "execution_count": null,
      "outputs": []
    },
    {
      "cell_type": "code",
      "source": [
        "# Training the model\n",
        "model.fit(X_train, Y_train, batch_size=batch_size, validation_data=(X_test, Y_test),epochs=epochs)"
      ],
      "metadata": {
        "colab": {
          "base_uri": "https://localhost:8080/"
        },
        "id": "b_64NSpqShsA",
        "outputId": "2fbee583-7f29-4dad-b683-c06618da11c8"
      },
      "execution_count": null,
      "outputs": [
        {
          "output_type": "stream",
          "name": "stdout",
          "text": [
            "Epoch 1/30\n",
            "460/460 [==============================] - 11s 10ms/step - loss: 1.1753 - accuracy: 0.5068 - val_loss: 0.8943 - val_accuracy: 0.6240\n",
            "Epoch 2/30\n",
            "460/460 [==============================] - 4s 9ms/step - loss: 0.7942 - accuracy: 0.6503 - val_loss: 0.8490 - val_accuracy: 0.6590\n",
            "Epoch 3/30\n",
            "460/460 [==============================] - 4s 9ms/step - loss: 0.6732 - accuracy: 0.7160 - val_loss: 0.7309 - val_accuracy: 0.7255\n",
            "Epoch 4/30\n",
            "460/460 [==============================] - 5s 10ms/step - loss: 0.5171 - accuracy: 0.8158 - val_loss: 0.6020 - val_accuracy: 0.7917\n",
            "Epoch 5/30\n",
            "460/460 [==============================] - 5s 11ms/step - loss: 0.3822 - accuracy: 0.8823 - val_loss: 0.4634 - val_accuracy: 0.8544\n",
            "Epoch 6/30\n",
            "460/460 [==============================] - 4s 9ms/step - loss: 0.3026 - accuracy: 0.9100 - val_loss: 0.3910 - val_accuracy: 0.8731\n",
            "Epoch 7/30\n",
            "460/460 [==============================] - 4s 9ms/step - loss: 0.2676 - accuracy: 0.9181 - val_loss: 0.4763 - val_accuracy: 0.8571\n",
            "Epoch 8/30\n",
            "460/460 [==============================] - 4s 9ms/step - loss: 0.2482 - accuracy: 0.9183 - val_loss: 0.4482 - val_accuracy: 0.8541\n",
            "Epoch 9/30\n",
            "460/460 [==============================] - 4s 9ms/step - loss: 0.2243 - accuracy: 0.9285 - val_loss: 0.4144 - val_accuracy: 0.8731\n",
            "Epoch 10/30\n",
            "460/460 [==============================] - 4s 9ms/step - loss: 0.2125 - accuracy: 0.9279 - val_loss: 0.3657 - val_accuracy: 0.8928\n",
            "Epoch 11/30\n",
            "460/460 [==============================] - 4s 9ms/step - loss: 0.2241 - accuracy: 0.9261 - val_loss: 0.3739 - val_accuracy: 0.8884\n",
            "Epoch 12/30\n",
            "460/460 [==============================] - 4s 9ms/step - loss: 0.1944 - accuracy: 0.9357 - val_loss: 0.3146 - val_accuracy: 0.8924\n",
            "Epoch 13/30\n",
            "460/460 [==============================] - 4s 9ms/step - loss: 0.1853 - accuracy: 0.9357 - val_loss: 0.6995 - val_accuracy: 0.8673\n",
            "Epoch 14/30\n",
            "460/460 [==============================] - 4s 9ms/step - loss: 0.1815 - accuracy: 0.9407 - val_loss: 0.3688 - val_accuracy: 0.8941\n",
            "Epoch 15/30\n",
            "460/460 [==============================] - 4s 9ms/step - loss: 0.1992 - accuracy: 0.9391 - val_loss: 0.5752 - val_accuracy: 0.8772\n",
            "Epoch 16/30\n",
            "460/460 [==============================] - 4s 9ms/step - loss: 0.1749 - accuracy: 0.9396 - val_loss: 0.5050 - val_accuracy: 0.8867\n",
            "Epoch 17/30\n",
            "460/460 [==============================] - 4s 9ms/step - loss: 0.1713 - accuracy: 0.9411 - val_loss: 0.6108 - val_accuracy: 0.8697\n",
            "Epoch 18/30\n",
            "460/460 [==============================] - 5s 10ms/step - loss: 0.1626 - accuracy: 0.9426 - val_loss: 0.3841 - val_accuracy: 0.9070\n",
            "Epoch 19/30\n",
            "460/460 [==============================] - 4s 9ms/step - loss: 0.1527 - accuracy: 0.9441 - val_loss: 0.3675 - val_accuracy: 0.8962\n",
            "Epoch 20/30\n",
            "460/460 [==============================] - 4s 9ms/step - loss: 0.1480 - accuracy: 0.9480 - val_loss: 0.3912 - val_accuracy: 0.8884\n",
            "Epoch 21/30\n",
            "460/460 [==============================] - 5s 10ms/step - loss: 0.1544 - accuracy: 0.9460 - val_loss: 0.4182 - val_accuracy: 0.9023\n",
            "Epoch 22/30\n",
            "460/460 [==============================] - 5s 10ms/step - loss: 0.1475 - accuracy: 0.9450 - val_loss: 0.5906 - val_accuracy: 0.8853\n",
            "Epoch 23/30\n",
            "460/460 [==============================] - 4s 9ms/step - loss: 0.1512 - accuracy: 0.9468 - val_loss: 0.6460 - val_accuracy: 0.8731\n",
            "Epoch 24/30\n",
            "460/460 [==============================] - 4s 9ms/step - loss: 0.1381 - accuracy: 0.9450 - val_loss: 0.4918 - val_accuracy: 0.9023\n",
            "Epoch 25/30\n",
            "460/460 [==============================] - 4s 9ms/step - loss: 0.1386 - accuracy: 0.9479 - val_loss: 0.5105 - val_accuracy: 0.8941\n",
            "Epoch 26/30\n",
            "460/460 [==============================] - 4s 9ms/step - loss: 0.1462 - accuracy: 0.9468 - val_loss: 0.4986 - val_accuracy: 0.8931\n",
            "Epoch 27/30\n",
            "460/460 [==============================] - 4s 9ms/step - loss: 0.1322 - accuracy: 0.9498 - val_loss: 0.6759 - val_accuracy: 0.8938\n",
            "Epoch 28/30\n",
            "460/460 [==============================] - 4s 9ms/step - loss: 0.1446 - accuracy: 0.9502 - val_loss: 0.3781 - val_accuracy: 0.9050\n",
            "Epoch 29/30\n",
            "460/460 [==============================] - 4s 9ms/step - loss: 0.1391 - accuracy: 0.9487 - val_loss: 0.3798 - val_accuracy: 0.8982\n",
            "Epoch 30/30\n",
            "460/460 [==============================] - 5s 11ms/step - loss: 0.1342 - accuracy: 0.9479 - val_loss: 0.3577 - val_accuracy: 0.9067\n"
          ]
        },
        {
          "output_type": "execute_result",
          "data": {
            "text/plain": [
              "<keras.callbacks.History at 0x7fb194fe0460>"
            ]
          },
          "metadata": {},
          "execution_count": 21
        }
      ]
    },
    {
      "cell_type": "code",
      "source": [
        "\n",
        "(Y_test, model.predict(X_test))\n"
      ],
      "metadata": {
        "colab": {
          "base_uri": "https://localhost:8080/"
        },
        "id": "Q4v74T8bShly",
        "outputId": "16dc9a66-7d94-477e-ff9e-33d67c2869c7"
      },
      "execution_count": null,
      "outputs": [
        {
          "output_type": "stream",
          "name": "stdout",
          "text": [
            "93/93 [==============================] - 1s 3ms/step\n"
          ]
        },
        {
          "output_type": "execute_result",
          "data": {
            "text/plain": [
              "(array([[0, 0, 0, 0, 1, 0],\n",
              "        [0, 0, 0, 0, 1, 0],\n",
              "        [0, 0, 0, 0, 1, 0],\n",
              "        ...,\n",
              "        [0, 1, 0, 0, 0, 0],\n",
              "        [0, 1, 0, 0, 0, 0],\n",
              "        [0, 1, 0, 0, 0, 0]], dtype=uint8),\n",
              " array([[2.6553087e-03, 4.1852156e-03, 3.3378179e-04, 7.6191735e-01,\n",
              "         9.9076980e-01, 2.0216472e-04],\n",
              "        [2.4742526e-03, 3.3918603e-03, 2.7350226e-04, 7.7424568e-01,\n",
              "         9.9161947e-01, 1.7700148e-04],\n",
              "        [2.4058449e-03, 3.1807823e-03, 2.5895791e-04, 7.7479273e-01,\n",
              "         9.9202687e-01, 1.5247073e-04],\n",
              "        ...,\n",
              "        [3.2760251e-01, 9.9999917e-01, 1.5887293e-01, 1.2027987e-02,\n",
              "         3.3336973e-01, 4.0474705e-02],\n",
              "        [4.5549673e-01, 9.9999785e-01, 3.0009912e-02, 1.3687733e-02,\n",
              "         2.2017585e-01, 2.3068514e-02],\n",
              "        [6.1976779e-01, 9.9999857e-01, 1.8448627e-02, 8.3253076e-03,\n",
              "         1.4952785e-01, 1.1545376e-02]], dtype=float32))"
            ]
          },
          "metadata": {},
          "execution_count": 22
        }
      ]
    },
    {
      "cell_type": "code",
      "source": [
        "score = model.evaluate(X_test, Y_test)\n",
        "\n",
        "print(\"\\n   cat_crossentropy  ||   accuracy \")\n",
        "print(\"  ____________________________________\")\n",
        "print(score)"
      ],
      "metadata": {
        "colab": {
          "base_uri": "https://localhost:8080/"
        },
        "id": "rQjXmAI_Shjl",
        "outputId": "21d33572-3519-4a88-df22-64c5588a06bf"
      },
      "execution_count": null,
      "outputs": [
        {
          "output_type": "stream",
          "name": "stdout",
          "text": [
            "93/93 [==============================] - 0s 4ms/step - loss: 0.3577 - accuracy: 0.9067\n",
            "\n",
            "   cat_crossentropy  ||   accuracy \n",
            "  ____________________________________\n",
            "[0.3576847314834595, 0.9066847562789917]\n"
          ]
        }
      ]
    },
    {
      "cell_type": "code",
      "source": [
        "# Initializing parameters\n",
        "n_epochs = 30\n",
        "n_batch = 16\n",
        "n_classes = _count_classes(Y_train)\n",
        "\n",
        "# Bias regularizer value - we will use elasticnet\n",
        "reg = L1L2(0.01, 0.01)"
      ],
      "metadata": {
        "id": "bTb1E0pTShgI"
      },
      "execution_count": null,
      "outputs": []
    },
    {
      "cell_type": "code",
      "source": [
        "# Model execution\n",
        "model = Sequential()\n",
        "model.add(LSTM(48, input_shape=(timesteps, input_dim), return_sequences=True,bias_regularizer=reg ))\n",
        "model.add(BatchNormalization())\n",
        "model.add(Dropout(0.50))\n",
        "model.add(LSTM(32))\n",
        "model.add(Dropout(0.50))\n",
        "model.add(Dense(n_classes, activation='sigmoid'))\n",
        "print(\"Model Summary: \")\n",
        "model.summary()"
      ],
      "metadata": {
        "colab": {
          "base_uri": "https://localhost:8080/"
        },
        "id": "htkhDnX4ShdF",
        "outputId": "20f700f5-0198-4b27-ffe6-8bcc6e2246b7"
      },
      "execution_count": null,
      "outputs": [
        {
          "output_type": "stream",
          "name": "stdout",
          "text": [
            "Model Summary: \n",
            "Model: \"sequential_2\"\n",
            "_________________________________________________________________\n",
            " Layer (type)                Output Shape              Param #   \n",
            "=================================================================\n",
            " lstm_1 (LSTM)               (None, 128, 48)           11136     \n",
            "                                                                 \n",
            " batch_normalization (BatchN  (None, 128, 48)          192       \n",
            " ormalization)                                                   \n",
            "                                                                 \n",
            " dropout_1 (Dropout)         (None, 128, 48)           0         \n",
            "                                                                 \n",
            " lstm_2 (LSTM)               (None, 32)                10368     \n",
            "                                                                 \n",
            " dropout_2 (Dropout)         (None, 32)                0         \n",
            "                                                                 \n",
            " dense_1 (Dense)             (None, 6)                 198       \n",
            "                                                                 \n",
            "=================================================================\n",
            "Total params: 21,894\n",
            "Trainable params: 21,798\n",
            "Non-trainable params: 96\n",
            "_________________________________________________________________\n"
          ]
        }
      ]
    },
    {
      "cell_type": "code",
      "source": [
        "model.compile(loss='categorical_crossentropy', optimizer='adam', metrics=['accuracy'])"
      ],
      "metadata": {
        "id": "Pk7NCzuzShaD"
      },
      "execution_count": null,
      "outputs": []
    },
    {
      "cell_type": "code",
      "source": [
        "# Training the model\n",
        "model.fit(X_train, Y_train, batch_size=n_batch, validation_data=(X_test, Y_test), epochs=n_epochs)"
      ],
      "metadata": {
        "colab": {
          "base_uri": "https://localhost:8080/"
        },
        "id": "cHPHphSBShXU",
        "outputId": "7bebfb24-8bcb-41db-acdb-91b11318e2d8"
      },
      "execution_count": null,
      "outputs": [
        {
          "output_type": "stream",
          "name": "stdout",
          "text": [
            "Epoch 1/30\n",
            "460/460 [==============================] - 11s 17ms/step - loss: 1.5782 - accuracy: 0.6666 - val_loss: 1.1719 - val_accuracy: 0.7838\n",
            "Epoch 2/30\n",
            "460/460 [==============================] - 7s 15ms/step - loss: 0.7550 - accuracy: 0.8629 - val_loss: 0.5161 - val_accuracy: 0.8904\n",
            "Epoch 3/30\n",
            "460/460 [==============================] - 7s 15ms/step - loss: 0.4275 - accuracy: 0.9066 - val_loss: 0.3250 - val_accuracy: 0.9013\n",
            "Epoch 4/30\n",
            "460/460 [==============================] - 7s 15ms/step - loss: 0.2421 - accuracy: 0.9313 - val_loss: 0.4269 - val_accuracy: 0.8789\n",
            "Epoch 5/30\n",
            "460/460 [==============================] - 7s 16ms/step - loss: 0.2511 - accuracy: 0.9170 - val_loss: 0.2255 - val_accuracy: 0.9128\n",
            "Epoch 6/30\n",
            "460/460 [==============================] - 8s 18ms/step - loss: 0.2032 - accuracy: 0.9297 - val_loss: 0.2790 - val_accuracy: 0.9111\n",
            "Epoch 7/30\n",
            "460/460 [==============================] - 7s 15ms/step - loss: 0.1933 - accuracy: 0.9304 - val_loss: 0.1768 - val_accuracy: 0.9318\n",
            "Epoch 8/30\n",
            "460/460 [==============================] - 7s 15ms/step - loss: 0.1688 - accuracy: 0.9376 - val_loss: 0.2598 - val_accuracy: 0.9097\n",
            "Epoch 9/30\n",
            "460/460 [==============================] - 7s 15ms/step - loss: 0.1651 - accuracy: 0.9389 - val_loss: 0.1812 - val_accuracy: 0.9318\n",
            "Epoch 10/30\n",
            "460/460 [==============================] - 7s 15ms/step - loss: 0.1710 - accuracy: 0.9392 - val_loss: 0.3072 - val_accuracy: 0.9070\n",
            "Epoch 11/30\n",
            "460/460 [==============================] - 7s 15ms/step - loss: 0.1551 - accuracy: 0.9410 - val_loss: 0.2708 - val_accuracy: 0.9033\n",
            "Epoch 12/30\n",
            "460/460 [==============================] - 7s 15ms/step - loss: 0.2640 - accuracy: 0.9166 - val_loss: 0.1942 - val_accuracy: 0.9298\n",
            "Epoch 13/30\n",
            "460/460 [==============================] - 7s 15ms/step - loss: 0.1695 - accuracy: 0.9338 - val_loss: 0.2340 - val_accuracy: 0.9125\n",
            "Epoch 14/30\n",
            "460/460 [==============================] - 7s 15ms/step - loss: 0.1628 - accuracy: 0.9350 - val_loss: 0.2421 - val_accuracy: 0.9104\n",
            "Epoch 15/30\n",
            "460/460 [==============================] - 7s 15ms/step - loss: 0.1868 - accuracy: 0.9340 - val_loss: 0.3379 - val_accuracy: 0.8880\n",
            "Epoch 16/30\n",
            "460/460 [==============================] - 7s 15ms/step - loss: 0.1655 - accuracy: 0.9416 - val_loss: 0.2756 - val_accuracy: 0.9084\n",
            "Epoch 17/30\n",
            "460/460 [==============================] - 7s 15ms/step - loss: 0.1719 - accuracy: 0.9361 - val_loss: 0.2823 - val_accuracy: 0.9094\n",
            "Epoch 18/30\n",
            "460/460 [==============================] - 7s 15ms/step - loss: 0.1496 - accuracy: 0.9427 - val_loss: 0.4083 - val_accuracy: 0.9063\n",
            "Epoch 19/30\n",
            "460/460 [==============================] - 7s 15ms/step - loss: 0.1392 - accuracy: 0.9467 - val_loss: 0.2096 - val_accuracy: 0.9237\n",
            "Epoch 20/30\n",
            "460/460 [==============================] - 7s 15ms/step - loss: 0.1318 - accuracy: 0.9475 - val_loss: 0.1950 - val_accuracy: 0.9247\n",
            "Epoch 21/30\n",
            "460/460 [==============================] - 8s 18ms/step - loss: 0.1251 - accuracy: 0.9490 - val_loss: 0.2041 - val_accuracy: 0.9291\n",
            "Epoch 22/30\n",
            "460/460 [==============================] - 7s 15ms/step - loss: 0.1319 - accuracy: 0.9483 - val_loss: 0.3125 - val_accuracy: 0.9104\n",
            "Epoch 23/30\n",
            "460/460 [==============================] - 7s 16ms/step - loss: 0.1472 - accuracy: 0.9429 - val_loss: 1.2904 - val_accuracy: 0.7611\n",
            "Epoch 24/30\n",
            "460/460 [==============================] - 7s 15ms/step - loss: 0.2188 - accuracy: 0.9295 - val_loss: 0.2554 - val_accuracy: 0.9108\n",
            "Epoch 25/30\n",
            "460/460 [==============================] - 7s 15ms/step - loss: 0.1458 - accuracy: 0.9450 - val_loss: 0.2597 - val_accuracy: 0.9158\n",
            "Epoch 26/30\n",
            "460/460 [==============================] - 7s 15ms/step - loss: 0.1339 - accuracy: 0.9474 - val_loss: 0.2720 - val_accuracy: 0.9189\n",
            "Epoch 27/30\n",
            "460/460 [==============================] - 7s 15ms/step - loss: 0.1349 - accuracy: 0.9465 - val_loss: 0.2974 - val_accuracy: 0.9128\n",
            "Epoch 28/30\n",
            "460/460 [==============================] - 8s 17ms/step - loss: 0.1350 - accuracy: 0.9491 - val_loss: 0.2754 - val_accuracy: 0.9152\n",
            "Epoch 29/30\n",
            "460/460 [==============================] - 7s 15ms/step - loss: 0.1258 - accuracy: 0.9499 - val_loss: 0.2676 - val_accuracy: 0.9213\n",
            "Epoch 30/30\n",
            "460/460 [==============================] - 7s 15ms/step - loss: 0.1376 - accuracy: 0.9470 - val_loss: 0.2533 - val_accuracy: 0.9264\n"
          ]
        },
        {
          "output_type": "execute_result",
          "data": {
            "text/plain": [
              "<keras.callbacks.History at 0x7fb1ad5cb610>"
            ]
          },
          "metadata": {},
          "execution_count": 27
        }
      ]
    },
    {
      "cell_type": "code",
      "source": [
        "# Confusion Matrix\n",
        "#new_confusion_matrix(Y_test, model.predict(X_test))\n",
        "Y_test, model.predict(X_test)"
      ],
      "metadata": {
        "colab": {
          "base_uri": "https://localhost:8080/"
        },
        "id": "1nMUNoGvShUa",
        "outputId": "2a270f57-f109-48ac-f097-4553e2095d26"
      },
      "execution_count": null,
      "outputs": [
        {
          "output_type": "stream",
          "name": "stdout",
          "text": [
            "93/93 [==============================] - 1s 6ms/step\n"
          ]
        },
        {
          "output_type": "execute_result",
          "data": {
            "text/plain": [
              "(array([[0, 0, 0, 0, 1, 0],\n",
              "        [0, 0, 0, 0, 1, 0],\n",
              "        [0, 0, 0, 0, 1, 0],\n",
              "        ...,\n",
              "        [0, 1, 0, 0, 0, 0],\n",
              "        [0, 1, 0, 0, 0, 0],\n",
              "        [0, 1, 0, 0, 0, 0]], dtype=uint8),\n",
              " array([[0.01685969, 0.01107293, 0.00298568, 0.9843538 , 0.9994666 ,\n",
              "         0.0071684 ],\n",
              "        [0.01658969, 0.01075445, 0.00304665, 0.98451185, 0.99948347,\n",
              "         0.00698212],\n",
              "        [0.0170277 , 0.01072008, 0.00302641, 0.984527  , 0.9994886 ,\n",
              "         0.00721045],\n",
              "        ...,\n",
              "        [0.3314195 , 0.99999106, 0.15813908, 0.02491959, 0.10609382,\n",
              "         0.05163733],\n",
              "        [0.34550476, 0.99999547, 0.21357827, 0.01469629, 0.14028569,\n",
              "         0.06603802],\n",
              "        [0.3111793 , 0.99999106, 0.19505553, 0.01823996, 0.1649576 ,\n",
              "         0.08212633]], dtype=float32))"
            ]
          },
          "metadata": {},
          "execution_count": 28
        }
      ]
    },
    {
      "cell_type": "code",
      "source": [
        "score = model.evaluate(X_test, Y_test)\n",
        "\n",
        "print(\"\\n   cat_crossentropy  ||   accuracy \")\n",
        "print(\"  ____________________________________\")\n",
        "print(score)"
      ],
      "metadata": {
        "colab": {
          "base_uri": "https://localhost:8080/"
        },
        "id": "bWqTVJJYShRm",
        "outputId": "a8958f29-636e-4496-d5b5-23e0b0de1611"
      },
      "execution_count": null,
      "outputs": [
        {
          "output_type": "stream",
          "name": "stdout",
          "text": [
            "93/93 [==============================] - 1s 7ms/step - loss: 0.2533 - accuracy: 0.9264\n",
            "\n",
            "   cat_crossentropy  ||   accuracy \n",
            "  ____________________________________\n",
            "[0.2532747685909271, 0.9263657927513123]\n"
          ]
        }
      ]
    }
  ]
}