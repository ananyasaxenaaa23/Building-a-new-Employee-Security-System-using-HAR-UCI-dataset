{
  "cells": [
    {
      "cell_type": "code",
      "execution_count": null,
      "metadata": {
        "id": "Ywx3K0sPsVOc"
      },
      "outputs": [],
      "source": [
        "import numpy as np\n",
        "import pandas as pd\n",
        "import itertools\n",
        "import matplotlib.pyplot as plt\n",
        "from sklearn.metrics import confusion_matrix\n",
        "from datetime import datetime\n",
        "\n",
        "from sklearn import linear_model\n",
        "from sklearn import metrics\n",
        "\n",
        "from sklearn.model_selection import GridSearchCV\n",
        "from sklearn.svm import LinearSVC\n",
        "from sklearn.svm import SVC\n",
        "from sklearn.tree import DecisionTreeClassifier\n",
        "from sklearn.ensemble import RandomForestClassifier\n",
        "from sklearn.ensemble import GradientBoostingClassifier"
      ]
    },
    {
      "cell_type": "markdown",
      "metadata": {
        "id": "7Bjh5gIWspIP"
      },
      "source": [
        "**Loading Data from the file**\n",
        "\n"
      ]
    },
    {
      "cell_type": "code",
      "execution_count": null,
      "metadata": {
        "colab": {
          "base_uri": "https://localhost:8080/"
        },
        "id": "9JoJpvgosnae",
        "outputId": "b22c4f32-2935-4fb0-a1d4-df3df6e5ce95"
      },
      "outputs": [
        {
          "output_type": "stream",
          "name": "stdout",
          "text": [
            "(7352, 564) (2947, 564)\n"
          ]
        }
      ],
      "source": [
        "train = pd.read_csv('/content/drive/MyDrive/UCI HAR Dataset-20221223T170042Z-001/UCI HAR Dataset/UCI HAR Dataset/train/csv_files/train.csv')\n",
        "test = pd.read_csv('/content/drive/MyDrive/UCI HAR Dataset-20221223T170042Z-001/UCI HAR Dataset/UCI HAR Dataset/test/csv_files/test.csv')\n",
        "print(train.shape, test.shape)"
      ]
    },
    {
      "cell_type": "code",
      "execution_count": null,
      "metadata": {
        "colab": {
          "base_uri": "https://localhost:8080/",
          "height": 317
        },
        "id": "xTwv7LGLtBsB",
        "outputId": "368e67e1-5f42-45b3-90e0-54527574f22c"
      },
      "outputs": [
        {
          "output_type": "execute_result",
          "data": {
            "text/plain": [
              "   tBodyAcc-mean()-X  tBodyAcc-mean()-Y  tBodyAcc-mean()-Z  tBodyAcc-std()-X  \\\n",
              "0           0.288585          -0.020294          -0.132905         -0.995279   \n",
              "1           0.278419          -0.016411          -0.123520         -0.998245   \n",
              "2           0.279653          -0.019467          -0.113462         -0.995380   \n",
              "3           0.279174          -0.026201          -0.123283         -0.996091   \n",
              "4           0.276629          -0.016570          -0.115362         -0.998139   \n",
              "\n",
              "   tBodyAcc-std()-Y  tBodyAcc-std()-Z  tBodyAcc-mad()-X  tBodyAcc-mad()-Y  \\\n",
              "0         -0.983111         -0.913526         -0.995112         -0.983185   \n",
              "1         -0.975300         -0.960322         -0.998807         -0.974914   \n",
              "2         -0.967187         -0.978944         -0.996520         -0.963668   \n",
              "3         -0.983403         -0.990675         -0.997099         -0.982750   \n",
              "4         -0.980817         -0.990482         -0.998321         -0.979672   \n",
              "\n",
              "   tBodyAcc-mad()-Z  tBodyAcc-max()-X  ...  angle(tBodyAccMean,gravity)  \\\n",
              "0         -0.923527         -0.934724  ...                    -0.112754   \n",
              "1         -0.957686         -0.943068  ...                     0.053477   \n",
              "2         -0.977469         -0.938692  ...                    -0.118559   \n",
              "3         -0.989302         -0.938692  ...                    -0.036788   \n",
              "4         -0.990441         -0.942469  ...                     0.123320   \n",
              "\n",
              "   angle(tBodyAccJerkMean),gravityMean)  angle(tBodyGyroMean,gravityMean)  \\\n",
              "0                              0.030400                         -0.464761   \n",
              "1                             -0.007435                         -0.732626   \n",
              "2                              0.177899                          0.100699   \n",
              "3                             -0.012892                          0.640011   \n",
              "4                              0.122542                          0.693578   \n",
              "\n",
              "   angle(tBodyGyroJerkMean,gravityMean)  angle(X,gravityMean)  \\\n",
              "0                             -0.018446             -0.841247   \n",
              "1                              0.703511             -0.844788   \n",
              "2                              0.808529             -0.848933   \n",
              "3                             -0.485366             -0.848649   \n",
              "4                             -0.615971             -0.847865   \n",
              "\n",
              "   angle(Y,gravityMean)  angle(Z,gravityMean)  subject  Act_emp  Act_emp_Name  \n",
              "0              0.179941             -0.058627        1        5      STANDING  \n",
              "1              0.180289             -0.054317        1        5      STANDING  \n",
              "2              0.180637             -0.049118        1        5      STANDING  \n",
              "3              0.181935             -0.047663        1        5      STANDING  \n",
              "4              0.185151             -0.043892        1        5      STANDING  \n",
              "\n",
              "[5 rows x 564 columns]"
            ],
            "text/html": [
              "\n",
              "  <div id=\"df-a2599502-16ae-4e60-a790-88acc67b9bad\">\n",
              "    <div class=\"colab-df-container\">\n",
              "      <div>\n",
              "<style scoped>\n",
              "    .dataframe tbody tr th:only-of-type {\n",
              "        vertical-align: middle;\n",
              "    }\n",
              "\n",
              "    .dataframe tbody tr th {\n",
              "        vertical-align: top;\n",
              "    }\n",
              "\n",
              "    .dataframe thead th {\n",
              "        text-align: right;\n",
              "    }\n",
              "</style>\n",
              "<table border=\"1\" class=\"dataframe\">\n",
              "  <thead>\n",
              "    <tr style=\"text-align: right;\">\n",
              "      <th></th>\n",
              "      <th>tBodyAcc-mean()-X</th>\n",
              "      <th>tBodyAcc-mean()-Y</th>\n",
              "      <th>tBodyAcc-mean()-Z</th>\n",
              "      <th>tBodyAcc-std()-X</th>\n",
              "      <th>tBodyAcc-std()-Y</th>\n",
              "      <th>tBodyAcc-std()-Z</th>\n",
              "      <th>tBodyAcc-mad()-X</th>\n",
              "      <th>tBodyAcc-mad()-Y</th>\n",
              "      <th>tBodyAcc-mad()-Z</th>\n",
              "      <th>tBodyAcc-max()-X</th>\n",
              "      <th>...</th>\n",
              "      <th>angle(tBodyAccMean,gravity)</th>\n",
              "      <th>angle(tBodyAccJerkMean),gravityMean)</th>\n",
              "      <th>angle(tBodyGyroMean,gravityMean)</th>\n",
              "      <th>angle(tBodyGyroJerkMean,gravityMean)</th>\n",
              "      <th>angle(X,gravityMean)</th>\n",
              "      <th>angle(Y,gravityMean)</th>\n",
              "      <th>angle(Z,gravityMean)</th>\n",
              "      <th>subject</th>\n",
              "      <th>Act_emp</th>\n",
              "      <th>Act_emp_Name</th>\n",
              "    </tr>\n",
              "  </thead>\n",
              "  <tbody>\n",
              "    <tr>\n",
              "      <th>0</th>\n",
              "      <td>0.288585</td>\n",
              "      <td>-0.020294</td>\n",
              "      <td>-0.132905</td>\n",
              "      <td>-0.995279</td>\n",
              "      <td>-0.983111</td>\n",
              "      <td>-0.913526</td>\n",
              "      <td>-0.995112</td>\n",
              "      <td>-0.983185</td>\n",
              "      <td>-0.923527</td>\n",
              "      <td>-0.934724</td>\n",
              "      <td>...</td>\n",
              "      <td>-0.112754</td>\n",
              "      <td>0.030400</td>\n",
              "      <td>-0.464761</td>\n",
              "      <td>-0.018446</td>\n",
              "      <td>-0.841247</td>\n",
              "      <td>0.179941</td>\n",
              "      <td>-0.058627</td>\n",
              "      <td>1</td>\n",
              "      <td>5</td>\n",
              "      <td>STANDING</td>\n",
              "    </tr>\n",
              "    <tr>\n",
              "      <th>1</th>\n",
              "      <td>0.278419</td>\n",
              "      <td>-0.016411</td>\n",
              "      <td>-0.123520</td>\n",
              "      <td>-0.998245</td>\n",
              "      <td>-0.975300</td>\n",
              "      <td>-0.960322</td>\n",
              "      <td>-0.998807</td>\n",
              "      <td>-0.974914</td>\n",
              "      <td>-0.957686</td>\n",
              "      <td>-0.943068</td>\n",
              "      <td>...</td>\n",
              "      <td>0.053477</td>\n",
              "      <td>-0.007435</td>\n",
              "      <td>-0.732626</td>\n",
              "      <td>0.703511</td>\n",
              "      <td>-0.844788</td>\n",
              "      <td>0.180289</td>\n",
              "      <td>-0.054317</td>\n",
              "      <td>1</td>\n",
              "      <td>5</td>\n",
              "      <td>STANDING</td>\n",
              "    </tr>\n",
              "    <tr>\n",
              "      <th>2</th>\n",
              "      <td>0.279653</td>\n",
              "      <td>-0.019467</td>\n",
              "      <td>-0.113462</td>\n",
              "      <td>-0.995380</td>\n",
              "      <td>-0.967187</td>\n",
              "      <td>-0.978944</td>\n",
              "      <td>-0.996520</td>\n",
              "      <td>-0.963668</td>\n",
              "      <td>-0.977469</td>\n",
              "      <td>-0.938692</td>\n",
              "      <td>...</td>\n",
              "      <td>-0.118559</td>\n",
              "      <td>0.177899</td>\n",
              "      <td>0.100699</td>\n",
              "      <td>0.808529</td>\n",
              "      <td>-0.848933</td>\n",
              "      <td>0.180637</td>\n",
              "      <td>-0.049118</td>\n",
              "      <td>1</td>\n",
              "      <td>5</td>\n",
              "      <td>STANDING</td>\n",
              "    </tr>\n",
              "    <tr>\n",
              "      <th>3</th>\n",
              "      <td>0.279174</td>\n",
              "      <td>-0.026201</td>\n",
              "      <td>-0.123283</td>\n",
              "      <td>-0.996091</td>\n",
              "      <td>-0.983403</td>\n",
              "      <td>-0.990675</td>\n",
              "      <td>-0.997099</td>\n",
              "      <td>-0.982750</td>\n",
              "      <td>-0.989302</td>\n",
              "      <td>-0.938692</td>\n",
              "      <td>...</td>\n",
              "      <td>-0.036788</td>\n",
              "      <td>-0.012892</td>\n",
              "      <td>0.640011</td>\n",
              "      <td>-0.485366</td>\n",
              "      <td>-0.848649</td>\n",
              "      <td>0.181935</td>\n",
              "      <td>-0.047663</td>\n",
              "      <td>1</td>\n",
              "      <td>5</td>\n",
              "      <td>STANDING</td>\n",
              "    </tr>\n",
              "    <tr>\n",
              "      <th>4</th>\n",
              "      <td>0.276629</td>\n",
              "      <td>-0.016570</td>\n",
              "      <td>-0.115362</td>\n",
              "      <td>-0.998139</td>\n",
              "      <td>-0.980817</td>\n",
              "      <td>-0.990482</td>\n",
              "      <td>-0.998321</td>\n",
              "      <td>-0.979672</td>\n",
              "      <td>-0.990441</td>\n",
              "      <td>-0.942469</td>\n",
              "      <td>...</td>\n",
              "      <td>0.123320</td>\n",
              "      <td>0.122542</td>\n",
              "      <td>0.693578</td>\n",
              "      <td>-0.615971</td>\n",
              "      <td>-0.847865</td>\n",
              "      <td>0.185151</td>\n",
              "      <td>-0.043892</td>\n",
              "      <td>1</td>\n",
              "      <td>5</td>\n",
              "      <td>STANDING</td>\n",
              "    </tr>\n",
              "  </tbody>\n",
              "</table>\n",
              "<p>5 rows × 564 columns</p>\n",
              "</div>\n",
              "      <button class=\"colab-df-convert\" onclick=\"convertToInteractive('df-a2599502-16ae-4e60-a790-88acc67b9bad')\"\n",
              "              title=\"Convert this dataframe to an interactive table.\"\n",
              "              style=\"display:none;\">\n",
              "        \n",
              "  <svg xmlns=\"http://www.w3.org/2000/svg\" height=\"24px\"viewBox=\"0 0 24 24\"\n",
              "       width=\"24px\">\n",
              "    <path d=\"M0 0h24v24H0V0z\" fill=\"none\"/>\n",
              "    <path d=\"M18.56 5.44l.94 2.06.94-2.06 2.06-.94-2.06-.94-.94-2.06-.94 2.06-2.06.94zm-11 1L8.5 8.5l.94-2.06 2.06-.94-2.06-.94L8.5 2.5l-.94 2.06-2.06.94zm10 10l.94 2.06.94-2.06 2.06-.94-2.06-.94-.94-2.06-.94 2.06-2.06.94z\"/><path d=\"M17.41 7.96l-1.37-1.37c-.4-.4-.92-.59-1.43-.59-.52 0-1.04.2-1.43.59L10.3 9.45l-7.72 7.72c-.78.78-.78 2.05 0 2.83L4 21.41c.39.39.9.59 1.41.59.51 0 1.02-.2 1.41-.59l7.78-7.78 2.81-2.81c.8-.78.8-2.07 0-2.86zM5.41 20L4 18.59l7.72-7.72 1.47 1.35L5.41 20z\"/>\n",
              "  </svg>\n",
              "      </button>\n",
              "      \n",
              "  <style>\n",
              "    .colab-df-container {\n",
              "      display:flex;\n",
              "      flex-wrap:wrap;\n",
              "      gap: 12px;\n",
              "    }\n",
              "\n",
              "    .colab-df-convert {\n",
              "      background-color: #E8F0FE;\n",
              "      border: none;\n",
              "      border-radius: 50%;\n",
              "      cursor: pointer;\n",
              "      display: none;\n",
              "      fill: #1967D2;\n",
              "      height: 32px;\n",
              "      padding: 0 0 0 0;\n",
              "      width: 32px;\n",
              "    }\n",
              "\n",
              "    .colab-df-convert:hover {\n",
              "      background-color: #E2EBFA;\n",
              "      box-shadow: 0px 1px 2px rgba(60, 64, 67, 0.3), 0px 1px 3px 1px rgba(60, 64, 67, 0.15);\n",
              "      fill: #174EA6;\n",
              "    }\n",
              "\n",
              "    [theme=dark] .colab-df-convert {\n",
              "      background-color: #3B4455;\n",
              "      fill: #D2E3FC;\n",
              "    }\n",
              "\n",
              "    [theme=dark] .colab-df-convert:hover {\n",
              "      background-color: #434B5C;\n",
              "      box-shadow: 0px 1px 3px 1px rgba(0, 0, 0, 0.15);\n",
              "      filter: drop-shadow(0px 1px 2px rgba(0, 0, 0, 0.3));\n",
              "      fill: #FFFFFF;\n",
              "    }\n",
              "  </style>\n",
              "\n",
              "      <script>\n",
              "        const buttonEl =\n",
              "          document.querySelector('#df-a2599502-16ae-4e60-a790-88acc67b9bad button.colab-df-convert');\n",
              "        buttonEl.style.display =\n",
              "          google.colab.kernel.accessAllowed ? 'block' : 'none';\n",
              "\n",
              "        async function convertToInteractive(key) {\n",
              "          const element = document.querySelector('#df-a2599502-16ae-4e60-a790-88acc67b9bad');\n",
              "          const dataTable =\n",
              "            await google.colab.kernel.invokeFunction('convertToInteractive',\n",
              "                                                     [key], {});\n",
              "          if (!dataTable) return;\n",
              "\n",
              "          const docLinkHtml = 'Like what you see? Visit the ' +\n",
              "            '<a target=\"_blank\" href=https://colab.research.google.com/notebooks/data_table.ipynb>data table notebook</a>'\n",
              "            + ' to learn more about interactive tables.';\n",
              "          element.innerHTML = '';\n",
              "          dataTable['output_type'] = 'display_data';\n",
              "          await google.colab.output.renderOutput(dataTable, element);\n",
              "          const docLink = document.createElement('div');\n",
              "          docLink.innerHTML = docLinkHtml;\n",
              "          element.appendChild(docLink);\n",
              "        }\n",
              "      </script>\n",
              "    </div>\n",
              "  </div>\n",
              "  "
            ]
          },
          "metadata": {},
          "execution_count": 4
        }
      ],
      "source": [
        "train.head()"
      ]
    },
    {
      "cell_type": "markdown",
      "metadata": {
        "id": "6sO3TJdWt4M2"
      },
      "source": [
        "MAKING DATA FOR MODEL TRAINING"
      ]
    },
    {
      "cell_type": "code",
      "execution_count": null,
      "metadata": {
        "colab": {
          "base_uri": "https://localhost:8080/"
        },
        "id": "rBSwqAzTtnzE",
        "outputId": "2c1f9796-c7c3-4b78-b531-3c5fd1a082d6"
      },
      "outputs": [
        {
          "output_type": "stream",
          "name": "stdout",
          "text": [
            "X_train and y_train : ((7352, 561),(7352,))\n",
            "X_test  and y_test  : ((2947, 561),(2947,))\n"
          ]
        }
      ],
      "source": [
        "X_train = train.drop(['subject', 'Act_emp', 'Act_emp_Name'], axis=1)\n",
        "y_train = train.Act_emp_Name\n",
        "\n",
        "X_test = test.drop(['subject', 'Act_emp', 'Act_emp_Name'], axis=1)\n",
        "y_test = test.Act_emp_Name\n",
        "\n",
        "print('X_train and y_train : ({},{})'.format(X_train.shape, y_train.shape))\n",
        "print('X_test  and y_test  : ({},{})'.format(X_test.shape, y_test.shape))"
      ]
    },
    {
      "cell_type": "code",
      "execution_count": null,
      "metadata": {
        "id": "9EkDbvIxtpuv"
      },
      "outputs": [],
      "source": [
        "labels=['LAYING', 'SITTING','STANDING','WALKING','WALKING_DOWNSTAIRS','WALKING_UPSTAIRS']"
      ]
    },
    {
      "cell_type": "markdown",
      "metadata": {
        "id": "kihQBbsftsGm"
      },
      "source": [
        "Labels that are useful in plotting confusion matrix"
      ]
    },
    {
      "cell_type": "code",
      "execution_count": null,
      "metadata": {
        "id": "M3TNeybTuCKP"
      },
      "outputs": [],
      "source": [
        "from datetime import datetime\n",
        "def perform_model(model, X_train, y_train, X_test, y_test, class_labels, cm_normalize=True, \\\n",
        "                 print_cm=True, cm_cmap=plt.cm.Purples):\n",
        "    \n",
        "    \n",
        "    #storing the values of different phases\n",
        "    results = dict()\n",
        "    \n",
        "    # Time at which model starts training \n",
        "    train_start_time = datetime.now()\n",
        "    print('Training the model')\n",
        "    model.fit(X_train, y_train)\n",
        "    print('Done!\\n')\n",
        "    train_end_time = datetime.now()\n",
        "    results['training_time'] =  train_end_time - train_start_time\n",
        "    print('---> training time:- {}\\n'.format(results['training_time']))\n",
        "    \n",
        "    \n",
        "    # predicting the test data\n",
        "    print('Predicting test data')\n",
        "    test_start_time = datetime.now()\n",
        "    y_pred = model.predict(X_test)\n",
        "    test_end_time = datetime.now()\n",
        "    print('Done!\\n')\n",
        "    results['testing_time'] = test_end_time - test_start_time\n",
        "    print('---> testing time:- {}\\n'.format(results['testing_time']))\n",
        "    results['predicted'] = y_pred\n",
        "   \n",
        "\n",
        "    # calculating the overall accuracy of the model\n",
        "    accuracy = metrics.accuracy_score(y_true=y_test, y_pred=y_pred)\n",
        "    # storing the accuracy in the results\n",
        "    results['accuracy'] = accuracy\n",
        "    print('---> Accuracy:- {}\\n'.format(accuracy))\n",
        "   \n",
        "    \n",
        "    \n",
        "    # confusion matrix\n",
        "    cm = metrics.confusion_matrix(y_test, y_pred)\n",
        "    results['confusion_matrix'] = cm\n",
        "    if print_cm: \n",
        "        print('        Confusion Matrix        ')\n",
        "        print('\\n {}'.format(cm))\n",
        "        \n",
        "    # plotting confusin matrix\n",
        "    plt.figure(figsize=(7,7))\n",
        "    plt.grid(b=False)\n",
        "    plot_confusion_matrix(cm, classes=class_labels, normalize=True, title='Normalized confusion matrix', cmap = cm_cmap)\n",
        "    plt.show()\n",
        "    \n",
        "    # getting the classification report\n",
        "    print('                | Classifiction Report |                ')\n",
        "    classification_report = metrics.classification_report(y_test, y_pred)\n",
        "   \n",
        "    # storing the report in results\n",
        "    results['classification_report'] = classification_report\n",
        "    print(classification_report)\n",
        "    \n",
        "    # adding the trained model to result\n",
        "    results['model'] = model\n",
        "    \n",
        "    return results"
      ]
    },
    {
      "cell_type": "markdown",
      "metadata": {
        "id": "lYl7ENfkuAgO"
      },
      "source": [
        "This function is made for plotting confusion matrix for every model. "
      ]
    },
    {
      "cell_type": "code",
      "execution_count": null,
      "metadata": {
        "id": "v_x0RW6It93c"
      },
      "outputs": [],
      "source": [
        "plt.rcParams[\"font.family\"] = 'monospace'\n",
        "\n",
        "def plot_confusion_matrix(cm, classes,\n",
        "                          normalize=False,\n",
        "                          title='Confusion matrix',\n",
        "                          cmap=plt.cm.Purples):\n",
        "    if normalize:\n",
        "        cm = cm.astype('float') / cm.sum(axis=1)[:, np.newaxis]\n",
        "\n",
        "    plt.imshow(cm, interpolation='nearest', cmap=cmap)\n",
        "    plt.title(title)\n",
        "    plt.colorbar()\n",
        "    tick_marks = np.arange(len(classes))\n",
        "    plt.xticks(tick_marks, classes, rotation=90)\n",
        "    plt.yticks(tick_marks, classes)\n",
        "\n",
        "    fmt = '.2f' if normalize else 'd'\n",
        "    thresh = cm.max() / 2.\n",
        "    for i, j in itertools.product(range(cm.shape[0]), range(cm.shape[1])):\n",
        "        plt.text(j, i, format(cm[i, j], fmt),\n",
        "                 horizontalalignment=\"center\",\n",
        "                 color=\"white\" if cm[i, j] > thresh else \"black\")\n",
        "\n",
        "    plt.tight_layout()\n",
        "    plt.ylabel('True label')\n",
        "    plt.xlabel('Predicted label')"
      ]
    },
    {
      "cell_type": "markdown",
      "metadata": {
        "id": "sTesBTXWuFbw"
      },
      "source": [
        "This fumction is made to run any specified model. It will tell the time at which model will start training and will predict the test data and then will tell the accuracy of the model and will plot a confusion matrix and give the classification report."
      ]
    },
    {
      "cell_type": "code",
      "execution_count": null,
      "metadata": {
        "id": "ay8KUNnhuKTf"
      },
      "outputs": [],
      "source": [
        "def print_grid_search_attributes(model):\n",
        "    # Estimator that will give highest score among all the estimators formed in GridSearch\n",
        "    print('\\n\\n---> Best Estimator is:')\n",
        "    print('\\t{}\\n'.format(model.best_estimator_))\n",
        "\n",
        "\n",
        "    # parameters that gave best results while performing grid search\n",
        "    print('\\n---> Best parameters are:')\n",
        "    print('\\tParameters of best estimator : {}'.format(model.best_params_))\n",
        "\n",
        "\n",
        "    #  number of cross validation splits\n",
        "    print('\\n---> Number of CrossValidation sets are:')\n",
        "    print('\\tTotal numbre of cross validation sets: {}'.format(model.n_splits_))\n",
        "\n",
        "\n",
        "    # Average cross validated score of the best estimator, from the Grid Search \n",
        "    print('\\n---> Best Score is:')\n",
        "    print('\\tAverage Cross Validate scores of best estimator : {}'.format(model.best_score_))"
      ]
    },
    {
      "cell_type": "markdown",
      "metadata": {
        "id": "cQ3XLsfzuMSI"
      },
      "source": [
        "The function is made above to print the Grid Search Parameters which will tell the Best parameters that gave best result while performing Grid Search. It will also tell the number of cross validation splits and the cross validated score of the best estimator from the Grid Search"
      ]
    },
    {
      "cell_type": "markdown",
      "metadata": {
        "id": "rLF80G8BuVqn"
      },
      "source": [
        "## 1. Logistic Regression with Grid Search"
      ]
    },
    {
      "cell_type": "code",
      "execution_count": null,
      "metadata": {
        "colab": {
          "base_uri": "https://localhost:8080/",
          "height": 1000
        },
        "id": "84od4e1WuO9j",
        "outputId": "882398e8-7ebd-4306-df3b-4e3c9b83627c"
      },
      "outputs": [
        {
          "output_type": "stream",
          "name": "stdout",
          "text": [
            "Training the model\n",
            "Fitting 3 folds for each of 12 candidates, totalling 36 fits\n",
            "Done!\n",
            "\n",
            "---> training time:- 0:00:27.479192\n",
            "\n",
            "Predicting test data\n",
            "Done!\n",
            "\n",
            "---> testing time:- 0:00:00.014812\n",
            "\n",
            "---> Accuracy:- 0.9582626399728538\n",
            "\n",
            "        Confusion Matrix        \n",
            "\n",
            " [[537   0   0   0   0   0]\n",
            " [  0 429  59   0   0   3]\n",
            " [  0  16 516   0   0   0]\n",
            " [  0   0   0 492   3   1]\n",
            " [  0   0   0   4 403  13]\n",
            " [  0   0   0  23   1 447]]\n"
          ]
        },
        {
          "output_type": "display_data",
          "data": {
            "text/plain": [
              "<Figure size 504x504 with 2 Axes>"
            ],
            "image/png": "[encoded data removed]"
          },
          "metadata": {
            "needs_background": "light"
          }
        },
        {
          "output_type": "stream",
          "name": "stdout",
          "text": [
            "                | Classifiction Report |                \n",
            "                    precision    recall  f1-score   support\n",
            "\n",
            "            LAYING       1.00      1.00      1.00       537\n",
            "           SITTING       0.96      0.87      0.92       491\n",
            "          STANDING       0.90      0.97      0.93       532\n",
            "           WALKING       0.95      0.99      0.97       496\n",
            "WALKING_DOWNSTAIRS       0.99      0.96      0.97       420\n",
            "  WALKING_UPSTAIRS       0.96      0.95      0.96       471\n",
            "\n",
            "          accuracy                           0.96      2947\n",
            "         macro avg       0.96      0.96      0.96      2947\n",
            "      weighted avg       0.96      0.96      0.96      2947\n",
            "\n",
            "\n",
            "\n",
            "---> Best Estimator is:\n",
            "\tLogisticRegression(C=1)\n",
            "\n",
            "\n",
            "---> Best parameters are:\n",
            "\tParameters of best estimator : {'C': 1, 'penalty': 'l2'}\n",
            "\n",
            "---> Number of CrossValidation sets are:\n",
            "\tTotal numbre of cross validation sets: 3\n",
            "\n",
            "---> Best Score is:\n",
            "\tAverage Cross Validate scores of best estimator : 0.9367535671959523\n"
          ]
        }
      ],
      "source": [
        "import warnings\n",
        "from sklearn.exceptions import ConvergenceWarning\n",
        "warnings.filterwarnings(\"ignore\")\n",
        "warnings.simplefilter(action='ignore', category=ConvergenceWarning)\n",
        "\n",
        "#Grid Search \n",
        "parameters = {'C':[0.01, 0.1, 1, 10, 20, 30], 'penalty':['l2','l1']}\n",
        "log_reg = linear_model.LogisticRegression()\n",
        "log_reg_grid = GridSearchCV(log_reg, param_grid=parameters, cv=3, verbose=1, n_jobs=-1)\n",
        "log_reg_grid_results =  perform_model(log_reg_grid, X_train, y_train, X_test, y_test, class_labels=labels)\n",
        "\n",
        "# to observe the attributes of the model\n",
        "print_grid_search_attributes(log_reg_grid_results['model'])"
      ]
    },
    {
      "cell_type": "markdown",
      "metadata": {
        "id": "JTcIFAn4ufr2"
      },
      "source": [
        "## 2. Linear SVC with GridSearch"
      ]
    },
    {
      "cell_type": "code",
      "execution_count": null,
      "metadata": {
        "colab": {
          "base_uri": "https://localhost:8080/",
          "height": 1000
        },
        "id": "X89dOibQucYs",
        "outputId": "4cc9cc1f-a6a3-4802-baac-04b158efd683"
      },
      "outputs": [
        {
          "output_type": "stream",
          "name": "stdout",
          "text": [
            "Training the model\n",
            "Fitting 5 folds for each of 6 candidates, totalling 30 fits\n",
            "Done!\n",
            "\n",
            "---> training time:- 0:01:40.339651\n",
            "\n",
            "Predicting test data\n",
            "Done!\n",
            "\n",
            "---> testing time:- 0:00:00.014469\n",
            "\n",
            "---> Accuracy:- 0.9660671869697998\n",
            "\n",
            "        Confusion Matrix        \n",
            "\n",
            " [[537   0   0   0   0   0]\n",
            " [  2 428  57   0   0   4]\n",
            " [  0  12 519   1   0   0]\n",
            " [  0   0   0 496   0   0]\n",
            " [  0   0   0   2 413   5]\n",
            " [  0   0   0  17   0 454]]\n"
          ]
        },
        {
          "output_type": "display_data",
          "data": {
            "text/plain": [
              "<Figure size 504x504 with 2 Axes>"
            ],
            "image/png": "[encoded data removed]"
          },
          "metadata": {
            "needs_background": "light"
          }
        },
        {
          "output_type": "stream",
          "name": "stdout",
          "text": [
            "                | Classifiction Report |                \n",
            "                    precision    recall  f1-score   support\n",
            "\n",
            "            LAYING       1.00      1.00      1.00       537\n",
            "           SITTING       0.97      0.87      0.92       491\n",
            "          STANDING       0.90      0.98      0.94       532\n",
            "           WALKING       0.96      1.00      0.98       496\n",
            "WALKING_DOWNSTAIRS       1.00      0.98      0.99       420\n",
            "  WALKING_UPSTAIRS       0.98      0.96      0.97       471\n",
            "\n",
            "          accuracy                           0.97      2947\n",
            "         macro avg       0.97      0.97      0.97      2947\n",
            "      weighted avg       0.97      0.97      0.97      2947\n",
            "\n",
            "\n",
            "\n",
            "---> Best Estimator is:\n",
            "\tLinearSVC(C=1, tol=5e-05)\n",
            "\n",
            "\n",
            "---> Best parameters are:\n",
            "\tParameters of best estimator : {'C': 1}\n",
            "\n",
            "---> Number of CrossValidation sets are:\n",
            "\tTotal numbre of cross validation sets: 5\n",
            "\n",
            "---> Best Score is:\n",
            "\tAverage Cross Validate scores of best estimator : 0.9424719173869411\n"
          ]
        }
      ],
      "source": [
        "parameters = {'C':[0.125, 0.5, 1, 2, 8, 16]}\n",
        "lr_svc = LinearSVC(tol=0.00005)\n",
        "lr_svc_grid = GridSearchCV(lr_svc, param_grid=parameters, n_jobs=-1, verbose=1)\n",
        "lr_svc_grid_results = perform_model(lr_svc_grid, X_train, y_train, X_test, y_test, class_labels=labels)\n",
        "\n",
        "# observe the attributes of the model \n",
        "print_grid_search_attributes(lr_svc_grid_results['model'])"
      ]
    },
    {
      "cell_type": "markdown",
      "metadata": {
        "id": "5s3ym9DYwZyn"
      },
      "source": [
        "## 3. Kernel SVM with GridSearch"
      ]
    },
    {
      "cell_type": "code",
      "execution_count": null,
      "metadata": {
        "colab": {
          "base_uri": "https://localhost:8080/",
          "height": 1000
        },
        "id": "1mVN1XX1uupM",
        "outputId": "b5ad0b3b-4807-4369-f924-47cdd8f2879c"
      },
      "outputs": [
        {
          "output_type": "stream",
          "name": "stdout",
          "text": [
            "Training the model\n",
            "Done!\n",
            "\n",
            "---> training time:- 0:06:52.763537\n",
            "\n",
            "Predicting test data\n",
            "Done!\n",
            "\n",
            "---> testing time:- 0:00:01.461564\n",
            "\n",
            "---> Accuracy:- 0.9626739056667798\n",
            "\n",
            "        Confusion Matrix        \n",
            "\n",
            " [[537   0   0   0   0   0]\n",
            " [  0 441  48   0   0   2]\n",
            " [  0  12 520   0   0   0]\n",
            " [  0   0   0 489   2   5]\n",
            " [  0   0   0   4 397  19]\n",
            " [  0   0   0  17   1 453]]\n"
          ]
        },
        {
          "output_type": "display_data",
          "data": {
            "text/plain": [
              "<Figure size 504x504 with 2 Axes>"
            ],
            "image/png": "[encoded data removed]"
          },
          "metadata": {
            "needs_background": "light"
          }
        },
        {
          "output_type": "stream",
          "name": "stdout",
          "text": [
            "                | Classifiction Report |                \n",
            "                    precision    recall  f1-score   support\n",
            "\n",
            "            LAYING       1.00      1.00      1.00       537\n",
            "           SITTING       0.97      0.90      0.93       491\n",
            "          STANDING       0.92      0.98      0.95       532\n",
            "           WALKING       0.96      0.99      0.97       496\n",
            "WALKING_DOWNSTAIRS       0.99      0.95      0.97       420\n",
            "  WALKING_UPSTAIRS       0.95      0.96      0.95       471\n",
            "\n",
            "          accuracy                           0.96      2947\n",
            "         macro avg       0.96      0.96      0.96      2947\n",
            "      weighted avg       0.96      0.96      0.96      2947\n",
            "\n",
            "\n",
            "\n",
            "---> Best Estimator is:\n",
            "\tSVC(C=16, gamma=0.0078125)\n",
            "\n",
            "\n",
            "---> Best parameters are:\n",
            "\tParameters of best estimator : {'C': 16, 'gamma': 0.0078125}\n",
            "\n",
            "---> Number of CrossValidation sets are:\n",
            "\tTotal numbre of cross validation sets: 5\n",
            "\n",
            "---> Best Score is:\n",
            "\tAverage Cross Validate scores of best estimator : 0.9447834551903698\n"
          ]
        }
      ],
      "source": [
        "parameters = {'C':[2,8,16],\\\n",
        "              'gamma': [ 0.0078125, 0.125, 2]}\n",
        "rbf_svm = SVC(kernel='rbf')\n",
        "rbf_svm_grid = GridSearchCV(rbf_svm,param_grid=parameters, n_jobs=-1)\n",
        "rbf_svm_grid_results = perform_model(rbf_svm_grid, X_train, y_train, X_test, y_test, class_labels=labels)\n",
        "\n",
        "# observe the attributes of the model \n",
        "print_grid_search_attributes(rbf_svm_grid_results['model'])"
      ]
    },
    {
      "cell_type": "markdown",
      "metadata": {
        "id": "aIyykXuOwjBO"
      },
      "source": [
        "# 4. Decision Trees with GridSearchCV"
      ]
    },
    {
      "cell_type": "code",
      "execution_count": null,
      "metadata": {
        "colab": {
          "base_uri": "https://localhost:8080/",
          "height": 1000
        },
        "id": "eTLJYW8Wwc7Z",
        "outputId": "f1a86462-10fd-421f-d8ee-95690cfe1198"
      },
      "outputs": [
        {
          "output_type": "stream",
          "name": "stdout",
          "text": [
            "Training the model\n",
            "Done!\n",
            "\n",
            "---> training time:- 0:00:40.676138\n",
            "\n",
            "Predicting test data\n",
            "Done!\n",
            "\n",
            "---> testing time:- 0:00:00.009806\n",
            "\n",
            "---> Accuracy:- 0.8713946386155412\n",
            "\n",
            "        Confusion Matrix        \n",
            "\n",
            " [[537   0   0   0   0   0]\n",
            " [  0 371 120   0   0   0]\n",
            " [  0  60 472   0   0   0]\n",
            " [  0   0   0 472  18   6]\n",
            " [  0   0   0  21 353  46]\n",
            " [  0   0   0  66  42 363]]\n"
          ]
        },
        {
          "output_type": "display_data",
          "data": {
            "text/plain": [
              "<Figure size 504x504 with 2 Axes>"
            ],
            "image/png": "[encoded data removed]"
          },
          "metadata": {
            "needs_background": "light"
          }
        },
        {
          "output_type": "stream",
          "name": "stdout",
          "text": [
            "                | Classifiction Report |                \n",
            "                    precision    recall  f1-score   support\n",
            "\n",
            "            LAYING       1.00      1.00      1.00       537\n",
            "           SITTING       0.86      0.76      0.80       491\n",
            "          STANDING       0.80      0.89      0.84       532\n",
            "           WALKING       0.84      0.95      0.89       496\n",
            "WALKING_DOWNSTAIRS       0.85      0.84      0.85       420\n",
            "  WALKING_UPSTAIRS       0.87      0.77      0.82       471\n",
            "\n",
            "          accuracy                           0.87      2947\n",
            "         macro avg       0.87      0.87      0.87      2947\n",
            "      weighted avg       0.87      0.87      0.87      2947\n",
            "\n",
            "\n",
            "\n",
            "---> Best Estimator is:\n",
            "\tDecisionTreeClassifier(max_depth=9)\n",
            "\n",
            "\n",
            "---> Best parameters are:\n",
            "\tParameters of best estimator : {'max_depth': 9}\n",
            "\n",
            "---> Number of CrossValidation sets are:\n",
            "\tTotal numbre of cross validation sets: 5\n",
            "\n",
            "---> Best Score is:\n",
            "\tAverage Cross Validate scores of best estimator : 0.8521583262808863\n"
          ]
        }
      ],
      "source": [
        "parameters = {'max_depth':np.arange(3,10,2)}\n",
        "dt = DecisionTreeClassifier()\n",
        "dt_grid = GridSearchCV(dt,param_grid=parameters, n_jobs=-1)\n",
        "dt_grid_results = perform_model(dt_grid, X_train, y_train, X_test, y_test, class_labels=labels)\n",
        "\n",
        "# observe the attributes of the model \n",
        "print_grid_search_attributes(dt_grid_results['model'])"
      ]
    },
    {
      "cell_type": "markdown",
      "metadata": {
        "id": "ZLYcyvM9w_PE"
      },
      "source": [
        "# 5. Random Forest Classifier with GridSearch"
      ]
    },
    {
      "cell_type": "code",
      "execution_count": null,
      "metadata": {
        "colab": {
          "base_uri": "https://localhost:8080/",
          "height": 1000
        },
        "id": "_96m-zMow-l0",
        "outputId": "662be783-4f68-43c5-8a27-d9612d3976eb"
      },
      "outputs": [
        {
          "output_type": "stream",
          "name": "stdout",
          "text": [
            "Training the model\n",
            "Done!\n",
            "\n",
            "---> training time:- 0:20:06.438451\n",
            "\n",
            "Predicting test data\n",
            "Done!\n",
            "\n",
            "---> testing time:- 0:00:00.084567\n",
            "\n",
            "---> Accuracy:- 0.9300984051577876\n",
            "\n",
            "        Confusion Matrix        \n",
            "\n",
            " [[537   0   0   0   0   0]\n",
            " [  0 435  56   0   0   0]\n",
            " [  0  40 492   0   0   0]\n",
            " [  0   0   0 482  11   3]\n",
            " [  0   0   0  18 358  44]\n",
            " [  0   0   0  28   6 437]]\n"
          ]
        },
        {
          "output_type": "display_data",
          "data": {
            "text/plain": [
              "<Figure size 504x504 with 2 Axes>"
            ],
            "image/png": "[encoded data removed]"
          },
          "metadata": {
            "needs_background": "light"
          }
        },
        {
          "output_type": "stream",
          "name": "stdout",
          "text": [
            "                | Classifiction Report |                \n",
            "                    precision    recall  f1-score   support\n",
            "\n",
            "            LAYING       1.00      1.00      1.00       537\n",
            "           SITTING       0.92      0.89      0.90       491\n",
            "          STANDING       0.90      0.92      0.91       532\n",
            "           WALKING       0.91      0.97      0.94       496\n",
            "WALKING_DOWNSTAIRS       0.95      0.85      0.90       420\n",
            "  WALKING_UPSTAIRS       0.90      0.93      0.92       471\n",
            "\n",
            "          accuracy                           0.93      2947\n",
            "         macro avg       0.93      0.93      0.93      2947\n",
            "      weighted avg       0.93      0.93      0.93      2947\n",
            "\n",
            "\n",
            "\n",
            "---> Best Estimator is:\n",
            "\tRandomForestClassifier(max_depth=11, n_estimators=170)\n",
            "\n",
            "\n",
            "---> Best parameters are:\n",
            "\tParameters of best estimator : {'max_depth': 11, 'n_estimators': 170}\n",
            "\n",
            "---> Number of CrossValidation sets are:\n",
            "\tTotal numbre of cross validation sets: 5\n",
            "\n",
            "---> Best Score is:\n",
            "\tAverage Cross Validate scores of best estimator : 0.9217938650647207\n"
          ]
        }
      ],
      "source": [
        "params = {'n_estimators': np.arange(10,201,20), 'max_depth':np.arange(3,15,2)}\n",
        "rfc = RandomForestClassifier()\n",
        "rfc_grid = GridSearchCV(rfc, param_grid=params, n_jobs=-1)\n",
        "rfc_grid_results = perform_model(rfc_grid, X_train, y_train, X_test, y_test, class_labels=labels)\n",
        "\n",
        "# observe the attributes of the model \n",
        "print_grid_search_attributes(rfc_grid_results['model'])"
      ]
    },
    {
      "cell_type": "markdown",
      "metadata": {
        "id": "knxjjjxsxLNm"
      },
      "source": [
        "# 6. Comparing all models"
      ]
    },
    {
      "cell_type": "code",
      "execution_count": null,
      "metadata": {
        "id": "GFyOQzz4xNA2",
        "colab": {
          "base_uri": "https://localhost:8080/"
        },
        "outputId": "ac731a34-0978-40c7-b476-155da286c5df"
      },
      "outputs": [
        {
          "output_type": "stream",
          "name": "stdout",
          "text": [
            "\n",
            "                     Accuracy     Error\n",
            "                     ----------   --------\n",
            "Logistic Regression : 95.83%       4.174%\n",
            "Linear SVC          : 96.67%       3.325% \n",
            "rbf SVM classifier  : 96.27%      3.733% \n",
            "DecisionTree        : 87.82%      12.18% \n",
            "Random Forest       : 90.8%      9.196% \n"
          ]
        }
      ],
      "source": [
        "#Accuracy and Error\n",
        "\n",
        "print('\\n                     Accuracy     Error')\n",
        "print('                     ----------   --------')\n",
        "print('Logistic Regression : {:.04}%       {:.04}%'.format(log_reg_grid_results['accuracy'] * 100,\\\n",
        "                                                  100-(log_reg_grid_results['accuracy'] * 100)))\n",
        "\n",
        "print('Linear SVC          : {:.04}%       {:.04}% '.format(lr_svc_grid_results['accuracy'] * 100,\\\n",
        "                                                        100-(lr_svc_grid_results['accuracy'] * 100)))\n",
        "\n",
        "print('rbf SVM classifier  : {:.04}%      {:.04}% '.format(rbf_svm_grid_results['accuracy'] * 100,\\\n",
        "                                                          100-(rbf_svm_grid_results['accuracy'] * 100)))\n",
        "\n",
        "print('DecisionTree        : {:.04}%      {:.04}% '.format(dt_grid_results['accuracy'] * 100,\\\n",
        "                                                        100-(dt_grid_results['accuracy'] * 100)))\n",
        "\n",
        "print('Random Forest       : {:.04}%      {:.04}% '.format(rfc_grid_results['accuracy'] * 100,\\\n",
        "                                                           100-(rfc_grid_results['accuracy'] * 100)))"
      ]
    }
  ],
  "metadata": {
    "accelerator": "GPU",
    "colab": {
      "provenance": []
    },
    "gpuClass": "standard",
    "kernelspec": {
      "display_name": "Python 3",
      "name": "python3"
    },
    "language_info": {
      "name": "python"
    }
  },
  "nbformat": 4,
  "nbformat_minor": 0
}