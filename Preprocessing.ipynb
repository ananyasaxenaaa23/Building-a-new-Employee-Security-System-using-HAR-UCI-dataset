{
  "cells": [
    {
      "cell_type": "code",
      "execution_count": null,
      "metadata": {
        "id": "ObTbxl6dOGLc",
        "colab": {
          "base_uri": "https://localhost:8080/"
        },
        "outputId": "603f7e27-ab30-494e-a097-afe6a48c5c98"
      },
      "outputs": [
        {
          "output_type": "stream",
          "name": "stdout",
          "text": [
            "Mounted at /content/drive\n",
            "Drive already mounted at /content/drive; to attempt to forcibly remount, call drive.mount(\"/content/drive\", force_remount=True).\n"
          ]
        }
      ],
      "source": [
        "from google.colab import drive\n",
        "drive.mount('/content/drive')"
      ]
    },
    {
      "cell_type": "code",
      "execution_count": null,
      "metadata": {
        "id": "iJDYEBRcLVM_",
        "colab": {
          "base_uri": "https://localhost:8080/"
        },
        "outputId": "b3fc01ae-c6d3-4ca5-81a9-6c23d5d10e82"
      },
      "outputs": [
        {
          "output_type": "stream",
          "name": "stdout",
          "text": [
            "Total Features: 4\n"
          ]
        }
      ],
      "source": [
        "import numpy as np\n",
        "import pandas as pd\n",
        "\n",
        "#getting total number of features\n",
        "\n",
        "features = list()\n",
        "with open('/content/drive/MyDrive/features1.txt') as f:\n",
        "    features = [line.split()[0] for line in f.readlines()]\n",
        "print('Total Features: {}'.format(len(features)))"
      ]
    },
    {
      "cell_type": "markdown",
      "metadata": {
        "id": "zkP3tMmMLkvY"
      },
      "source": [
        "1.   Importing libraries:\n",
        "\n",
        "*   Numpy\n",
        "*   Pandas\n",
        "\n",
        "2. Getting the total number of features.\n",
        "\n",
        "\n",
        "\n",
        "\n",
        "\n",
        "\n",
        "\n"
      ]
    },
    {
      "cell_type": "code",
      "execution_count": null,
      "metadata": {
        "id": "ozpwKFwMLdqa",
        "colab": {
          "base_uri": "https://localhost:8080/"
        },
        "outputId": "f0878062-8817-41a5-9207-78a0ecedde4b"
      },
      "outputs": [
        {
          "output_type": "execute_result",
          "data": {
            "text/plain": [
              "['1time', '2ax', '3ay', '4az']"
            ]
          },
          "metadata": {},
          "execution_count": 5
        }
      ],
      "source": [
        "features"
      ]
    },
    {
      "cell_type": "code",
      "source": [
        "from sklearn import preprocessing\n",
        "import pandas as pd\n",
        "activities = pd.read_csv(\"/content/drive/MyDrive/activities.csv\")\n",
        "x_array = np.array(activities['time'])\n",
        "normalized_arr = preprocessing.normalize([x_array])\n",
        "print(normalized_arr)"
      ],
      "metadata": {
        "colab": {
          "base_uri": "https://localhost:8080/"
        },
        "id": "AAyKUaBxy9u-",
        "outputId": "b49396bd-6a1e-4756-c83a-ae9c39ff5a1f"
      },
      "execution_count": null,
      "outputs": [
        {
          "output_type": "stream",
          "name": "stdout",
          "text": [
            "[[3.68403035e-06 4.48007711e-06 5.00697747e-06 ... 7.10334311e-03\n",
            "  7.10779186e-03 7.11082367e-03]]\n"
          ]
        }
      ]
    },
    {
      "cell_type": "code",
      "execution_count": null,
      "metadata": {
        "id": "dilAHIjNLd9I",
        "colab": {
          "base_uri": "https://localhost:8080/"
        },
        "outputId": "7a6e7cb5-3e61-4254-a076-9e621e1306f0"
      },
      "outputs": [
        {
          "output_type": "execute_result",
          "data": {
            "text/plain": [
              "8056  0.882231   -0.9637  0.1064   2.0211   downstairs    2\n",
              "5321  13.327484  6.9446   -9.1288  0.1023   Upstairs      0\n",
              "9214  3.778971   -1.4086  -4.1149  -0.112   downstairs    2\n",
              "9796  3.953245   0.0214   -0.0286  0.0445   Laying        3\n",
              "2730  6.817983   0.0573   -0.6882  -0.5977  Upstairs      0\n",
              "5823  14.584319  1.9868   -4.1152  3.0742   Upstairs      0\n",
              "8737  2.585674   7.7732   -6.5324  2.1231   downstairs    2\n",
              "9221  3.796285   -1.0482  -4.6049  0.3406   downstairs    2\n",
              "378   0.941801   1.9255   -1.9624  3.6209   Upstairs      0\n",
              "4304  10.78348   -0.4725  -0.3606  -1.4646  Upstairs      0\n",
              "Name: Activity, dtype: object"
            ]
          },
          "metadata": {},
          "execution_count": 17
        }
      ],
      "source": [
        "from sklearn import preprocessing\n",
        "import pandas as pd\n",
        "housing = pd.read_csv('/content/drive/MyDrive/activities.csv')\n",
        "scaler = preprocessing.MinMaxScaler()\n",
        "# Subject = Subject.columns\n",
        "# d = scaler.fit_transform(ax)\n",
        "# scaled_df = pd.DataFrame(d, columns=ax)\n",
        "# scaled_df.head()\n",
        "\n",
        "# get the data from txt files to pandas dataFrame\n",
        "train = pd.read_csv('/content/drive/MyDrive/train.csv', delim_whitespace=True, header=None)\n",
        "# train.columns = [features]\n",
        "# add subject column to the dataframe\n",
        "# train['Subject'] = pd.read_csv('/content/drive/MyDrive/train.csv', header=None, squeeze=True)\n",
        "\n",
        "train = pd.read_csv('/content/drive/MyDrive/train.csv', names=['Activity'], squeeze=True)\n",
        "train_labels = train.map({0: 'Upstairs',1:'Sitting',2:'Downstairs',3:'Laying'})\n",
        "\n",
        "# put all columns in a single dataframe\n",
        "train=train\n",
        "train['Act_emp'] = train\n",
        "train['Activity'] = train_labels\n",
        "train.sample(10)\n"
      ]
    },
    {
      "cell_type": "markdown",
      "metadata": {
        "id": "lSDZo1cFL2lV"
      },
      "source": [
        "1. Getting the train data from text files and putting them in pandas dataframe.\n",
        "2. Adding the **Subject** column from train data to the Dataframe.\n",
        "3. Putting the Columns **Act_emp** and **Act_emp_Name** in a single dataframe.\n",
        "4. Here **Act_emp** stands for the Activity Number that is being done by the employee and **Act_emp_Name** stands for the Activity performed by the employee.\n",
        "\n",
        "\n"
      ]
    },
    {
      "cell_type": "code",
      "execution_count": null,
      "metadata": {
        "id": "LCLeym5hLeIi",
        "colab": {
          "base_uri": "https://localhost:8080/"
        },
        "outputId": "647f3dc4-53ce-46de-90bb-5e93eb70df05"
      },
      "outputs": [
        {
          "output_type": "execute_result",
          "data": {
            "text/plain": [
              "Count  time      ax      ay       az       Activity     Subject\n",
              "1      0.002587  1.4945  -0.735   -1.1442  Upstairs           0\n",
              "2      0.003146  1.5047  -0.7142  -1.2787  Upstairs           0\n",
              "3      0.003516  1.4692  -0.7034  -1.4197  Upstairs           0\n",
              "4      0.003925  1.4416  -0.6778  -1.5029  Upstairs           0\n",
              "Name: Activity, dtype: object"
            ]
          },
          "metadata": {},
          "execution_count": 18
        }
      ],
      "source": [
        "train.head()"
      ]
    },
    {
      "cell_type": "code",
      "execution_count": null,
      "metadata": {
        "id": "g2TDNvgYLeRt",
        "colab": {
          "base_uri": "https://localhost:8080/"
        },
        "outputId": "1ddcb144-cccf-4c35-e6b7-c3d7cb6b3889"
      },
      "outputs": [
        {
          "output_type": "execute_result",
          "data": {
            "text/plain": [
              "2665  0.842234   -0.4325  -0.8365  1.0218   Sitting     1\n",
              "320   10.092941  0.4186   -0.0671  -2.4565  Upstairs    0\n",
              "2457  0.319468   -0.7078  -0.3864  -0.1183  Sitting     1\n",
              "539   10.641142  -0.7295  -1.2622  -0.765   Upstairs    0\n",
              "2250  14.921185  2.4376   -2.465   0.0038   Upstairs    0\n",
              "1985  14.258528  -4.1924  -0.901   0.3198   Upstairs    0\n",
              "950   11.668727  -0.5655  -0.9305  -0.213   Upstairs    0\n",
              "314   10.078219  0.5174   -0.2543  -2.3954  Upstairs    0\n",
              "49    9.415737   -0.0902  -0.5349  -0.8598  Upstairs    0\n",
              "1927  14.113079  0.7468   -1.4083  1.7335   Upstairs    0\n",
              "2009  14.318889  -5.3621  -1.0257  -1.0904  Upstairs    0\n",
              "2720  0.978876   -0.6635  1.2262   1.4899   Sitting     1\n",
              "1574  13.252105  -0.6568  -3.5356  -0.9711  Upstairs    0\n",
              "946   11.65924   -0.5721  -0.7463  -0.258   Upstairs    0\n",
              "40    9.393114   -0.3113  -0.2623  -0.9582  Upstairs    0\n",
              "770   11.219543  1.2141   -1.0154  -2.5495  Upstairs    0\n",
              "1149  12.167431  1.3413   1.2725   2.8196   Upstairs    0\n",
              "2007  14.313146  -5.2882  -0.9474  -1.0933  Upstairs    0\n",
              "2099  14.543527  0.417    -2.4158  3.3883   Upstairs    0\n",
              "1014  11.831286  -0.9134  -1.9923  -3.38    Upstairs    0\n",
              "733   11.126249  1.7089   -1.454   0.7299   Upstairs    0\n",
              "24    9.353394   -1.1621  -0.0919  -0.6892  Upstairs    0\n",
              "2669  0.849663   -1.9026  -0.9134  -0.8629  Sitting     1\n",
              "2077  14.488246  -2.1005  -1.545   2.9219   Upstairs    0\n",
              "2454  0.31262    -0.838   -0.5606  -0.2315  Sitting     1\n",
              "2512  0.457882   0.0428   -0.4686  -0.1091  Sitting     1\n",
              "2470  0.352947   0.3141   0.3728   0.2251   Sitting     1\n",
              "1259  12.44178   -0.2304  -0.6506  -4.6447  Upstairs    0\n",
              "965   11.717746  -0.8951  -1.4757  -0.6474  Upstairs    0\n",
              "719   11.092183  2.5862   -1.225   1.4067   Upstairs    0\n",
              "1102  12.049511  0.6678   0.5897   1.6669   Upstairs    0\n",
              "2650  0.801205   3.4244   -0.552   4.1942   Sitting     1\n",
              "322   10.10795   0.38     -0.0142  -2.403   Upstairs    0\n",
              "2583  0.634289   -0.235   -0.9766  -1.1144  Sitting     1\n",
              "2016  14.335725  -5.5472  -1.3678  -1.0546  Upstairs    0\n",
              "1831  13.893874  3.1433   -1.1717  2.7789   Upstairs    0\n",
              "60    9.442657   -0.0797  -0.7065  -0.737   Upstairs    0\n",
              "2719  0.974655   -0.7136  1.43     1.2489   Sitting     1\n",
              "1080  11.993948  0.074    -0.3684  0.6675   Upstairs    0\n",
              "2441  0.278959   -1.2562  -0.5595  -0.4069  Sitting     1\n",
              "2483  0.385848   0.5668   -0.4991  0.9634   Sitting     1\n",
              "1987  14.26482   -4.3263  -0.8647  0.1136   Upstairs    0\n",
              "1581  13.259557  0.5999   -3.7968  -0.7625  Upstairs    0\n",
              "2690  0.901398   -0.0862  -1.9762  -1.106   Sitting     1\n",
              "1914  14.080406  1.3159   0.0189   0.3531   Upstairs    0\n",
              "568   10.722551  0.7883   -1.2522  -1.0121  Upstairs    0\n",
              "2233  14.878823  0.8732   -1.8445  1.0428   Upstairs    0\n",
              "460   10.443353  -0.0508  -0.3932  2.4113   Upstairs    0\n",
              "1998  14.29067   -5.0193  -0.778   -0.7841  Upstairs    0\n",
              "2467  0.343283   0.0104   0.3006   0.1269   Sitting     1\n",
              "Name: Subject, dtype: object"
            ]
          },
          "metadata": {},
          "execution_count": 19
        }
      ],
      "source": [
        "# get the data from txt files to pandas dataffame\n",
        "test = pd.read_csv('/content/drive/MyDrive/test.csv', delim_whitespace=True, header=None)\n",
        "# test.columns = [features]\n",
        "\n",
        "# get y labels from the txt file\n",
        "test = pd.read_csv('/content/drive/MyDrive/test.csv', names=['Subject'], squeeze=True)\n",
        "test_labels = test.map({0: 'Upstairs',1:'Sitting',2:'Downstairs',3:'Laying'})\n",
        "\n",
        "\n",
        "# put all columns in a single dataframe\n",
        "test['Act_emp'] = test\n",
        "test['Act_emp_Name'] = test_labels\n",
        "test.sample(50)"
      ]
    },
    {
      "cell_type": "markdown",
      "metadata": {
        "id": "iMD3T98fMCZF"
      },
      "source": [
        "1. Getting the test data from text files and putting them in pandas dataframe.\n",
        "2. Adding the **Subject** column from test data to the Dataframe.\n",
        "3. Putting the Columns **Act_emp** and **Act_emp_Name** in a single dataframe.\n",
        "4. Here **Act_emp** stands for the Activity Number that is being done by the employee and **Act_emp_Name** stands for the Activity performed by the employee.\n"
      ]
    },
    {
      "cell_type": "code",
      "execution_count": null,
      "metadata": {
        "colab": {
          "base_uri": "https://localhost:8080/"
        },
        "id": "Qwc-pCvbLeU7",
        "outputId": "cbb3b59b-200f-4563-b419-30683ae49c5d"
      },
      "outputs": [
        {
          "output_type": "execute_result",
          "data": {
            "text/plain": [
              "Count  time      ax       ay       az      Activity     Subject\n",
              "1      9.296752  -0.7472  -0.7719  2.1924  Upstairs           0\n",
              "2      9.297296  -0.7608  -0.7799  2.004   Upstairs           0\n",
              "3      9.300179  -0.7695  -0.819   1.7942  Upstairs           0\n",
              "4      9.302485  -0.8114  -0.8533  1.5496  Upstairs           0\n",
              "Name: Subject, dtype: object"
            ]
          },
          "metadata": {},
          "execution_count": 20
        }
      ],
      "source": [
        "test.head()"
      ]
    },
    {
      "cell_type": "markdown",
      "metadata": {
        "id": "cIrsDk0SMHnY"
      },
      "source": [
        "1. These are the top 5 values from the test data.\n",
        "2. .head() by defaults print the top 5 values from the given dataset."
      ]
    },
    {
      "cell_type": "code",
      "execution_count": null,
      "metadata": {
        "colab": {
          "base_uri": "https://localhost:8080/"
        },
        "id": "8jpX8UPCLeX5",
        "outputId": "c29e0410-434c-438b-e58d-f5b12a6d3e3e"
      },
      "outputs": [
        {
          "output_type": "stream",
          "name": "stdout",
          "text": [
            "(10212, 7) (2726, 7)\n"
          ]
        }
      ],
      "source": [
        "print(train.shape,test.shape)"
      ]
    },
    {
      "cell_type": "markdown",
      "metadata": {
        "id": "0y7DTQ4lMNOo"
      },
      "source": [
        ".shape tells the shape of our test data"
      ]
    },
    {
      "cell_type": "code",
      "execution_count": null,
      "metadata": {
        "colab": {
          "base_uri": "https://localhost:8080/"
        },
        "id": "nFtPjhikLed5",
        "outputId": "e4f65aae-d929-4231-ffb5-1ebb735987a1"
      },
      "outputs": [
        {
          "output_type": "stream",
          "name": "stdout",
          "text": [
            "0 NaN/Null values are present in train\n",
            "0 NaN/Null values are present in test\n"
          ]
        }
      ],
      "source": [
        "print('{} NaN/Null values are present in train'.format(train.isnull().values.sum()))\n",
        "print('{} NaN/Null values are present in test'.format(test.isnull().values.sum()))"
      ]
    },
    {
      "cell_type": "code",
      "execution_count": null,
      "metadata": {
        "colab": {
          "base_uri": "https://localhost:8080/"
        },
        "id": "iVpj160jLems",
        "outputId": "5f9dd088-b474-4b15-b5be-035f6acdbd52"
      },
      "outputs": [
        {
          "output_type": "stream",
          "name": "stdout",
          "text": [
            "(10212, 7) (2726, 7)\n"
          ]
        }
      ],
      "source": [
        "train = pd.read_csv('/content/drive/MyDrive/train.csv')\n",
        "test = pd.read_csv('/content/drive/MyDrive/test.csv')\n",
        "print(train.shape, test.shape)"
      ]
    },
    {
      "cell_type": "code",
      "execution_count": null,
      "metadata": {
        "colab": {
          "base_uri": "https://localhost:8080/"
        },
        "id": "FPxIdBprLepo",
        "outputId": "ac5252c2-d229-4747-c508-6d9c54206d5c"
      },
      "outputs": [
        {
          "output_type": "stream",
          "name": "stdout",
          "text": [
            "Index(['Count', 'time', 'ax', 'ay ', 'az ', 'Activity ', 'Subject'], dtype='object')\n"
          ]
        }
      ],
      "source": [
        "print(train.columns)"
      ]
    },
    {
      "cell_type": "markdown",
      "metadata": {
        "id": "glL4XACSMvM1"
      },
      "source": [
        "Now printing all the columns if train data"
      ]
    },
    {
      "cell_type": "code",
      "execution_count": null,
      "metadata": {
        "colab": {
          "base_uri": "https://localhost:8080/"
        },
        "id": "YyC7s56LLesl",
        "outputId": "2edbb798-fee8-4227-8d00-4fd444a8ebe0"
      },
      "outputs": [
        {
          "output_type": "stream",
          "name": "stderr",
          "text": [
            "<ipython-input-25-d44704abf7e4>:4: FutureWarning: The default value of regex will change from True to False in a future version.\n",
            "  columns = columns.str.replace('[()]','')\n",
            "<ipython-input-25-d44704abf7e4>:5: FutureWarning: The default value of regex will change from True to False in a future version.\n",
            "  columns = columns.str.replace('[-]', '')\n",
            "<ipython-input-25-d44704abf7e4>:6: FutureWarning: The default value of regex will change from True to False in a future version.\n",
            "  columns = columns.str.replace('[,]','')\n"
          ]
        },
        {
          "output_type": "execute_result",
          "data": {
            "text/plain": [
              "Index(['Count', 'time', 'ax', 'ay ', 'az ', 'Activity ', 'Subject'], dtype='object')"
            ]
          },
          "metadata": {},
          "execution_count": 25
        }
      ],
      "source": [
        "columns = train.columns\n",
        "\n",
        "# Removing '()' from column names\n",
        "columns = columns.str.replace('[()]','')\n",
        "columns = columns.str.replace('[-]', '')\n",
        "columns = columns.str.replace('[,]','')\n",
        "\n",
        "train.columns = columns\n",
        "test.columns = columns\n",
        "\n",
        "test.columns"
      ]
    },
    {
      "cell_type": "markdown",
      "metadata": {
        "id": "2M0cAobJMzvn"
      },
      "source": [
        "1. Removing all the extra symbols from the data and separating it by **' , '**\n",
        "2. Printing the columns of test data."
      ]
    },
    {
      "cell_type": "code",
      "execution_count": null,
      "metadata": {
        "colab": {
          "base_uri": "https://localhost:8080/"
        },
        "id": "DAmF-G7bLevc",
        "outputId": "6c63deac-b599-4722-b89b-170182083c8d"
      },
      "outputs": [
        {
          "output_type": "execute_result",
          "data": {
            "text/plain": [
              "array([0, 1, 2, 3])"
            ]
          },
          "metadata": {},
          "execution_count": 26
        }
      ],
      "source": [
        "train['Subject'].unique()"
      ]
    },
    {
      "cell_type": "code",
      "execution_count": null,
      "metadata": {
        "colab": {
          "base_uri": "https://localhost:8080/",
          "height": 542
        },
        "id": "R89FiKZKLe1J",
        "outputId": "5721b66a-a5af-432b-95a6-ba73727769d2"
      },
      "outputs": [
        {
          "output_type": "display_data",
          "data": {
            "text/html": [
              "<html>\n",
              "<head><meta charset=\"utf-8\" /></head>\n",
              "<body>\n",
              "    <div>            <script src=\"https://cdnjs.cloudflare.com/ajax/libs/mathjax/2.7.5/MathJax.js?config=TeX-AMS-MML_SVG\"></script><script type=\"text/javascript\">if (window.MathJax) {MathJax.Hub.Config({SVG: {font: \"STIX-Web\"}});}</script>                <script type=\"text/javascript\">window.PlotlyConfig = {MathJaxConfig: 'local'};</script>\n",
              "        <script src=\"https://cdn.plot.ly/plotly-2.8.3.min.js\"></script>                <div id=\"bbd1c821-b1da-43c6-bf04-24a09a091076\" class=\"plotly-graph-div\" style=\"height:525px; width:100%;\"></div>            <script type=\"text/javascript\">                                    window.PLOTLYENV=window.PLOTLYENV || {};                                    if (document.getElementById(\"bbd1c821-b1da-43c6-bf04-24a09a091076\")) {                    Plotly.newPlot(                        \"bbd1c821-b1da-43c6-bf04-24a09a091076\",                        [{\"marker\":{\"color\":[\"#440154\",\"#3b528b\",\"#21918c\",\"#5ec962\"]},\"x\":[0,2,1,3],\"y\":[6034,1798,1665,715],\"type\":\"bar\"}],                        {\"title\":{\"text\":\"Smartphone ActivityName Distribution\"},\"xaxis\":{\"title\":{\"text\":\"Activity number\"}},\"yaxis\":{\"title\":{\"text\":\"Count\"}},\"template\":{\"data\":{\"bar\":[{\"error_x\":{\"color\":\"#2a3f5f\"},\"error_y\":{\"color\":\"#2a3f5f\"},\"marker\":{\"line\":{\"color\":\"#E5ECF6\",\"width\":0.5},\"pattern\":{\"fillmode\":\"overlay\",\"size\":10,\"solidity\":0.2}},\"type\":\"bar\"}],\"barpolar\":[{\"marker\":{\"line\":{\"color\":\"#E5ECF6\",\"width\":0.5},\"pattern\":{\"fillmode\":\"overlay\",\"size\":10,\"solidity\":0.2}},\"type\":\"barpolar\"}],\"carpet\":[{\"aaxis\":{\"endlinecolor\":\"#2a3f5f\",\"gridcolor\":\"white\",\"linecolor\":\"white\",\"minorgridcolor\":\"white\",\"startlinecolor\":\"#2a3f5f\"},\"baxis\":{\"endlinecolor\":\"#2a3f5f\",\"gridcolor\":\"white\",\"linecolor\":\"white\",\"minorgridcolor\":\"white\",\"startlinecolor\":\"#2a3f5f\"},\"type\":\"carpet\"}],\"choropleth\":[{\"colorbar\":{\"outlinewidth\":0,\"ticks\":\"\"},\"type\":\"choropleth\"}],\"contour\":[{\"colorbar\":{\"outlinewidth\":0,\"ticks\":\"\"},\"colorscale\":[[0.0,\"#0d0887\"],[0.1111111111111111,\"#46039f\"],[0.2222222222222222,\"#7201a8\"],[0.3333333333333333,\"#9c179e\"],[0.4444444444444444,\"#bd3786\"],[0.5555555555555556,\"#d8576b\"],[0.6666666666666666,\"#ed7953\"],[0.7777777777777778,\"#fb9f3a\"],[0.8888888888888888,\"#fdca26\"],[1.0,\"#f0f921\"]],\"type\":\"contour\"}],\"contourcarpet\":[{\"colorbar\":{\"outlinewidth\":0,\"ticks\":\"\"},\"type\":\"contourcarpet\"}],\"heatmap\":[{\"colorbar\":{\"outlinewidth\":0,\"ticks\":\"\"},\"colorscale\":[[0.0,\"#0d0887\"],[0.1111111111111111,\"#46039f\"],[0.2222222222222222,\"#7201a8\"],[0.3333333333333333,\"#9c179e\"],[0.4444444444444444,\"#bd3786\"],[0.5555555555555556,\"#d8576b\"],[0.6666666666666666,\"#ed7953\"],[0.7777777777777778,\"#fb9f3a\"],[0.8888888888888888,\"#fdca26\"],[1.0,\"#f0f921\"]],\"type\":\"heatmap\"}],\"heatmapgl\":[{\"colorbar\":{\"outlinewidth\":0,\"ticks\":\"\"},\"colorscale\":[[0.0,\"#0d0887\"],[0.1111111111111111,\"#46039f\"],[0.2222222222222222,\"#7201a8\"],[0.3333333333333333,\"#9c179e\"],[0.4444444444444444,\"#bd3786\"],[0.5555555555555556,\"#d8576b\"],[0.6666666666666666,\"#ed7953\"],[0.7777777777777778,\"#fb9f3a\"],[0.8888888888888888,\"#fdca26\"],[1.0,\"#f0f921\"]],\"type\":\"heatmapgl\"}],\"histogram\":[{\"marker\":{\"pattern\":{\"fillmode\":\"overlay\",\"size\":10,\"solidity\":0.2}},\"type\":\"histogram\"}],\"histogram2d\":[{\"colorbar\":{\"outlinewidth\":0,\"ticks\":\"\"},\"colorscale\":[[0.0,\"#0d0887\"],[0.1111111111111111,\"#46039f\"],[0.2222222222222222,\"#7201a8\"],[0.3333333333333333,\"#9c179e\"],[0.4444444444444444,\"#bd3786\"],[0.5555555555555556,\"#d8576b\"],[0.6666666666666666,\"#ed7953\"],[0.7777777777777778,\"#fb9f3a\"],[0.8888888888888888,\"#fdca26\"],[1.0,\"#f0f921\"]],\"type\":\"histogram2d\"}],\"histogram2dcontour\":[{\"colorbar\":{\"outlinewidth\":0,\"ticks\":\"\"},\"colorscale\":[[0.0,\"#0d0887\"],[0.1111111111111111,\"#46039f\"],[0.2222222222222222,\"#7201a8\"],[0.3333333333333333,\"#9c179e\"],[0.4444444444444444,\"#bd3786\"],[0.5555555555555556,\"#d8576b\"],[0.6666666666666666,\"#ed7953\"],[0.7777777777777778,\"#fb9f3a\"],[0.8888888888888888,\"#fdca26\"],[1.0,\"#f0f921\"]],\"type\":\"histogram2dcontour\"}],\"mesh3d\":[{\"colorbar\":{\"outlinewidth\":0,\"ticks\":\"\"},\"type\":\"mesh3d\"}],\"parcoords\":[{\"line\":{\"colorbar\":{\"outlinewidth\":0,\"ticks\":\"\"}},\"type\":\"parcoords\"}],\"pie\":[{\"automargin\":true,\"type\":\"pie\"}],\"scatter\":[{\"marker\":{\"colorbar\":{\"outlinewidth\":0,\"ticks\":\"\"}},\"type\":\"scatter\"}],\"scatter3d\":[{\"line\":{\"colorbar\":{\"outlinewidth\":0,\"ticks\":\"\"}},\"marker\":{\"colorbar\":{\"outlinewidth\":0,\"ticks\":\"\"}},\"type\":\"scatter3d\"}],\"scattercarpet\":[{\"marker\":{\"colorbar\":{\"outlinewidth\":0,\"ticks\":\"\"}},\"type\":\"scattercarpet\"}],\"scattergeo\":[{\"marker\":{\"colorbar\":{\"outlinewidth\":0,\"ticks\":\"\"}},\"type\":\"scattergeo\"}],\"scattergl\":[{\"marker\":{\"colorbar\":{\"outlinewidth\":0,\"ticks\":\"\"}},\"type\":\"scattergl\"}],\"scattermapbox\":[{\"marker\":{\"colorbar\":{\"outlinewidth\":0,\"ticks\":\"\"}},\"type\":\"scattermapbox\"}],\"scatterpolar\":[{\"marker\":{\"colorbar\":{\"outlinewidth\":0,\"ticks\":\"\"}},\"type\":\"scatterpolar\"}],\"scatterpolargl\":[{\"marker\":{\"colorbar\":{\"outlinewidth\":0,\"ticks\":\"\"}},\"type\":\"scatterpolargl\"}],\"scatterternary\":[{\"marker\":{\"colorbar\":{\"outlinewidth\":0,\"ticks\":\"\"}},\"type\":\"scatterternary\"}],\"surface\":[{\"colorbar\":{\"outlinewidth\":0,\"ticks\":\"\"},\"colorscale\":[[0.0,\"#0d0887\"],[0.1111111111111111,\"#46039f\"],[0.2222222222222222,\"#7201a8\"],[0.3333333333333333,\"#9c179e\"],[0.4444444444444444,\"#bd3786\"],[0.5555555555555556,\"#d8576b\"],[0.6666666666666666,\"#ed7953\"],[0.7777777777777778,\"#fb9f3a\"],[0.8888888888888888,\"#fdca26\"],[1.0,\"#f0f921\"]],\"type\":\"surface\"}],\"table\":[{\"cells\":{\"fill\":{\"color\":\"#EBF0F8\"},\"line\":{\"color\":\"white\"}},\"header\":{\"fill\":{\"color\":\"#C8D4E3\"},\"line\":{\"color\":\"white\"}},\"type\":\"table\"}]},\"layout\":{\"annotationdefaults\":{\"arrowcolor\":\"#2a3f5f\",\"arrowhead\":0,\"arrowwidth\":1},\"autotypenumbers\":\"strict\",\"coloraxis\":{\"colorbar\":{\"outlinewidth\":0,\"ticks\":\"\"}},\"colorscale\":{\"diverging\":[[0,\"#8e0152\"],[0.1,\"#c51b7d\"],[0.2,\"#de77ae\"],[0.3,\"#f1b6da\"],[0.4,\"#fde0ef\"],[0.5,\"#f7f7f7\"],[0.6,\"#e6f5d0\"],[0.7,\"#b8e186\"],[0.8,\"#7fbc41\"],[0.9,\"#4d9221\"],[1,\"#276419\"]],\"sequential\":[[0.0,\"#0d0887\"],[0.1111111111111111,\"#46039f\"],[0.2222222222222222,\"#7201a8\"],[0.3333333333333333,\"#9c179e\"],[0.4444444444444444,\"#bd3786\"],[0.5555555555555556,\"#d8576b\"],[0.6666666666666666,\"#ed7953\"],[0.7777777777777778,\"#fb9f3a\"],[0.8888888888888888,\"#fdca26\"],[1.0,\"#f0f921\"]],\"sequentialminus\":[[0.0,\"#0d0887\"],[0.1111111111111111,\"#46039f\"],[0.2222222222222222,\"#7201a8\"],[0.3333333333333333,\"#9c179e\"],[0.4444444444444444,\"#bd3786\"],[0.5555555555555556,\"#d8576b\"],[0.6666666666666666,\"#ed7953\"],[0.7777777777777778,\"#fb9f3a\"],[0.8888888888888888,\"#fdca26\"],[1.0,\"#f0f921\"]]},\"colorway\":[\"#636efa\",\"#EF553B\",\"#00cc96\",\"#ab63fa\",\"#FFA15A\",\"#19d3f3\",\"#FF6692\",\"#B6E880\",\"#FF97FF\",\"#FECB52\"],\"font\":{\"color\":\"#2a3f5f\"},\"geo\":{\"bgcolor\":\"white\",\"lakecolor\":\"white\",\"landcolor\":\"#E5ECF6\",\"showlakes\":true,\"showland\":true,\"subunitcolor\":\"white\"},\"hoverlabel\":{\"align\":\"left\"},\"hovermode\":\"closest\",\"mapbox\":{\"style\":\"light\"},\"paper_bgcolor\":\"white\",\"plot_bgcolor\":\"#E5ECF6\",\"polar\":{\"angularaxis\":{\"gridcolor\":\"white\",\"linecolor\":\"white\",\"ticks\":\"\"},\"bgcolor\":\"#E5ECF6\",\"radialaxis\":{\"gridcolor\":\"white\",\"linecolor\":\"white\",\"ticks\":\"\"}},\"scene\":{\"xaxis\":{\"backgroundcolor\":\"#E5ECF6\",\"gridcolor\":\"white\",\"gridwidth\":2,\"linecolor\":\"white\",\"showbackground\":true,\"ticks\":\"\",\"zerolinecolor\":\"white\"},\"yaxis\":{\"backgroundcolor\":\"#E5ECF6\",\"gridcolor\":\"white\",\"gridwidth\":2,\"linecolor\":\"white\",\"showbackground\":true,\"ticks\":\"\",\"zerolinecolor\":\"white\"},\"zaxis\":{\"backgroundcolor\":\"#E5ECF6\",\"gridcolor\":\"white\",\"gridwidth\":2,\"linecolor\":\"white\",\"showbackground\":true,\"ticks\":\"\",\"zerolinecolor\":\"white\"}},\"shapedefaults\":{\"line\":{\"color\":\"#2a3f5f\"}},\"ternary\":{\"aaxis\":{\"gridcolor\":\"white\",\"linecolor\":\"white\",\"ticks\":\"\"},\"baxis\":{\"gridcolor\":\"white\",\"linecolor\":\"white\",\"ticks\":\"\"},\"bgcolor\":\"#E5ECF6\",\"caxis\":{\"gridcolor\":\"white\",\"linecolor\":\"white\",\"ticks\":\"\"}},\"title\":{\"x\":0.05},\"xaxis\":{\"automargin\":true,\"gridcolor\":\"white\",\"linecolor\":\"white\",\"ticks\":\"\",\"title\":{\"standoff\":15},\"zerolinecolor\":\"white\",\"zerolinewidth\":2},\"yaxis\":{\"automargin\":true,\"gridcolor\":\"white\",\"linecolor\":\"white\",\"ticks\":\"\",\"title\":{\"standoff\":15},\"zerolinecolor\":\"white\",\"zerolinewidth\":2}}}},                        {\"responsive\": true}                    ).then(function(){\n",
              "                            \n",
              "var gd = document.getElementById('bbd1c821-b1da-43c6-bf04-24a09a091076');\n",
              "var x = new MutationObserver(function (mutations, observer) {{\n",
              "        var display = window.getComputedStyle(gd).display;\n",
              "        if (!display || display === 'none') {{\n",
              "            console.log([gd, 'removed!']);\n",
              "            Plotly.purge(gd);\n",
              "            observer.disconnect();\n",
              "        }}\n",
              "}});\n",
              "\n",
              "// Listen for the removal of the full notebook cells\n",
              "var notebookContainer = gd.closest('#notebook-container');\n",
              "if (notebookContainer) {{\n",
              "    x.observe(notebookContainer, {childList: true});\n",
              "}}\n",
              "\n",
              "// Listen for the clearing of the current output cell\n",
              "var outputEl = gd.closest('.output');\n",
              "if (outputEl) {{\n",
              "    x.observe(outputEl, {childList: true});\n",
              "}}\n",
              "\n",
              "                        })                };                            </script>        </div>\n",
              "</body>\n",
              "</html>"
            ]
          },
          "metadata": {}
        }
      ],
      "source": [
        "import matplotlib.pyplot as plt\n",
        "import matplotlib as mlt\n",
        "import plotly\n",
        "import plotly.graph_objects as go\n",
        "from plotly.offline import download_plotlyjs, init_notebook_mode, plot, iplot\n",
        "\n",
        "\n",
        "# Plotting data\n",
        "label_counts = train['Subject'].value_counts()\n",
        "\n",
        "# Get colors\n",
        "n = label_counts.shape[0]\n",
        "colormap = plt.get_cmap('viridis')\n",
        "colors = [mlt.colors.to_hex(colormap(col)) for col in np.arange(0, 1, 1/(n))]\n",
        "\n",
        "# Create plot\n",
        "data = go.Bar(x = label_counts.index,\n",
        "              y = label_counts,\n",
        "              marker = dict(color = colors))\n",
        "\n",
        "layout = go.Layout(title = 'Smartphone ActivityName Distribution',\n",
        "                   xaxis = dict(title = 'Activity number'),\n",
        "                   yaxis = dict(title = 'Count'))\n",
        "\n",
        "fig = go.Figure(data=[data], layout=layout)\n",
        "fig.show()\n",
        "#iplot(fig)"
      ]
    },
    {
      "cell_type": "code",
      "execution_count": null,
      "metadata": {
        "colab": {
          "base_uri": "https://localhost:8080/",
          "height": 666
        },
        "id": "xC2dLQPVLe4C",
        "outputId": "c21b90ce-7bfa-423a-e5a7-73bf045a86fc"
      },
      "outputs": [
        {
          "output_type": "stream",
          "name": "stderr",
          "text": [
            "/usr/local/lib/python3.8/dist-packages/seaborn/distributions.py:2619: FutureWarning:\n",
            "\n",
            "`distplot` is a deprecated function and will be removed in a future version. Please adapt your code to use either `displot` (a figure-level function with similar flexibility) or `kdeplot` (an axes-level function for kernel density plots).\n",
            "\n",
            "/usr/local/lib/python3.8/dist-packages/seaborn/distributions.py:2619: FutureWarning:\n",
            "\n",
            "`distplot` is a deprecated function and will be removed in a future version. Please adapt your code to use either `displot` (a figure-level function with similar flexibility) or `kdeplot` (an axes-level function for kernel density plots).\n",
            "\n",
            "/usr/local/lib/python3.8/dist-packages/seaborn/distributions.py:2619: FutureWarning:\n",
            "\n",
            "`distplot` is a deprecated function and will be removed in a future version. Please adapt your code to use either `displot` (a figure-level function with similar flexibility) or `kdeplot` (an axes-level function for kernel density plots).\n",
            "\n",
            "/usr/local/lib/python3.8/dist-packages/seaborn/distributions.py:2619: FutureWarning:\n",
            "\n",
            "`distplot` is a deprecated function and will be removed in a future version. Please adapt your code to use either `displot` (a figure-level function with similar flexibility) or `kdeplot` (an axes-level function for kernel density plots).\n",
            "\n"
          ]
        },
        {
          "output_type": "display_data",
          "data": {
            "text/plain": [
              "<Figure size 765.25x360 with 1 Axes>"
            ],
            "image/png": "[encoded data removed]"
          },
          "metadata": {}
        }
      ],
      "source": [
        "sns.set_palette(\"tab20\", desat=0.80)\n",
        "facetgrid = sns.FacetGrid(train, hue='Subject', height=5,aspect=2)\n",
        "facetgrid.map(sns.distplot,'ax', hist=False)\\\n",
        "    .add_legend()\n",
        "plt.annotate(\"Stationary Activities\", xy=(0,3), xytext=(-0.5, 15), size=20,\\\n",
        "            va='center', ha='left',\\\n",
        "            arrowprops=dict(arrowstyle=\"->\",connectionstyle=\"arc3,rad=0\",color=\"blue\"))\n",
        "\n",
        "plt.annotate(\"Moving Activities\", xy=(0,1), xytext=(0.2, 9), size=20,\\\n",
        "            va='center', ha='left',\\\n",
        "            arrowprops=dict(arrowstyle=\"->\",connectionstyle=\"arc3,rad=0.1\",color=\"blue\"))\n",
        "plt.show()"
      ]
    },
    {
      "cell_type": "code",
      "execution_count": null,
      "metadata": {
        "colab": {
          "base_uri": "https://localhost:8080/",
          "height": 587
        },
        "id": "mSbK-zSRLe61",
        "outputId": "2cfb04ef-182e-44fb-a53e-96b5940aca70"
      },
      "outputs": [
        {
          "name": "stderr",
          "output_type": "stream",
          "text": [
            "/usr/local/lib/python3.8/dist-packages/seaborn/distributions.py:2619: FutureWarning:\n",
            "\n",
            "`distplot` is a deprecated function and will be removed in a future version. Please adapt your code to use either `displot` (a figure-level function with similar flexibility) or `kdeplot` (an axes-level function for kernel density plots).\n",
            "\n",
            "/usr/local/lib/python3.8/dist-packages/seaborn/distributions.py:2619: FutureWarning:\n",
            "\n",
            "`distplot` is a deprecated function and will be removed in a future version. Please adapt your code to use either `displot` (a figure-level function with similar flexibility) or `kdeplot` (an axes-level function for kernel density plots).\n",
            "\n",
            "/usr/local/lib/python3.8/dist-packages/seaborn/distributions.py:2619: FutureWarning:\n",
            "\n",
            "`distplot` is a deprecated function and will be removed in a future version. Please adapt your code to use either `displot` (a figure-level function with similar flexibility) or `kdeplot` (an axes-level function for kernel density plots).\n",
            "\n",
            "/usr/local/lib/python3.8/dist-packages/seaborn/distributions.py:2619: FutureWarning:\n",
            "\n",
            "`distplot` is a deprecated function and will be removed in a future version. Please adapt your code to use either `displot` (a figure-level function with similar flexibility) or `kdeplot` (an axes-level function for kernel density plots).\n",
            "\n"
          ]
        },
        {
          "data": {
            "image/png": "[encoded data removed]",
            "text/plain": [
              "<Figure size 1080x504 with 2 Axes>"
            ]
          },
          "metadata": {},
          "output_type": "display_data"
        }
      ],
      "source": [
        "# for plotting purposes taking datapoints of each activity to a different dataframe\n",
        "df1 = train[train['Subject']==0]\n",
        "df2 = train[train['Subject']==1]\n",
        "df3 = train[train['Subject']==2]\n",
        "df4 = train[train['Subject']==3]\n",
        "\n",
        "\n",
        "plt.figure(figsize=(15,7))\n",
        "plt.subplot(2,2,1)\n",
        "plt.title('Stationary Activities')\n",
        "sns.distplot(df4['ax'],color = 'r',hist = False, label = 'Laying')\n",
        "sns.distplot(df2['ax'],color = 'r',hist = False, label = 'Sitting')\n",
        "plt.axis([-1.08, -0.2, 0.1, 20])\n",
        "plt.legend(loc='center right')\n",
        "\n",
        "plt.subplot(2,2,2)\n",
        "plt.title('Moving Activities')\n",
        "sns.distplot(df1['ax'],color = 'red',hist = False, label = 'Upstairs')\n",
        "sns.distplot(df3['ax'],color = 'black',hist = False, label = 'Downstairs')\n",
        "plt.legend(loc='center right')\n",
        "\n",
        "\n",
        "plt.tight_layout()\n",
        "plt.show()"
      ]
    },
    {
      "cell_type": "markdown",
      "metadata": {
        "id": "gfP1FHNPNM3V"
      },
      "source": [
        "* For getting a more clear view of Stationary Activities and Moving Activities the data points of them has been divided into different dataframes.\n",
        "\n"
      ]
    }
  ],
  "metadata": {
    "colab": {
      "provenance": []
    },
    "kernelspec": {
      "display_name": "Python 3",
      "name": "python3"
    },
    "language_info": {
      "name": "python"
    }
  },
  "nbformat": 4,
  "nbformat_minor": 0
}