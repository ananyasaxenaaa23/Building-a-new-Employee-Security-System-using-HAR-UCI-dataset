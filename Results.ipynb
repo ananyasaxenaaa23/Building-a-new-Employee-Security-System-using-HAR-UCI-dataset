{
  "nbformat": 4,
  "nbformat_minor": 0,
  "metadata": {
    "colab": {
      "provenance": []
    },
    "kernelspec": {
      "name": "python3",
      "display_name": "Python 3"
    },
    "language_info": {
      "name": "python"
    }
  },
  "cells": [
    {
      "cell_type": "code",
      "source": [
        "from google.colab import drive\n",
        "drive.mount('/content/drive')"
      ],
      "metadata": {
        "id": "neF_dLs4Qh0t",
        "colab": {
          "base_uri": "https://localhost:8080/"
        },
        "outputId": "d5cf22d1-1711-4420-ef17-2ddc9663adcd"
      },
      "execution_count": null,
      "outputs": [
        {
          "output_type": "stream",
          "name": "stdout",
          "text": [
            "Drive already mounted at /content/drive; to attempt to forcibly remount, call drive.mount(\"/content/drive\", force_remount=True).\n"
          ]
        }
      ]
    },
    {
      "cell_type": "code",
      "execution_count": null,
      "metadata": {
        "id": "hso4F_vOnjF5"
      },
      "outputs": [],
      "source": [
        "from prettytable import PrettyTable"
      ]
    },
    {
      "cell_type": "code",
      "source": [
        "ptable1 = PrettyTable()\n",
        "ptable1.title = \" Model Comparision \"\n",
        "ptable1.field_names = ['Model Name','Hyperparameter Tunning', 'Accuracy']\n",
        "\n",
        "print(\"\\n\\n ********** Machine Learning Model Comparision ************\")\n",
        "ptable1.add_row([\"Logistic Regression\",\"Done\",\"95.83%\"])\n",
        "ptable1.add_row([\"Linear SVC  \",\"Done\",\"96.47%\"])\n",
        "ptable1.add_row([\"rbf SVM classifier\",\"Done\",\"96.27%\"])\n",
        "ptable1.add_row([\"DecisionTree\",\"Done\",\"86.46%\"])\n",
        "ptable1.add_row([\"Random Forest\",\"Done\",\"92.6%\"])\n",
        "\n",
        "print(ptable1)\n",
        "# *****************************************************************\n",
        "\n",
        "ptable2 = PrettyTable()\n",
        "ptable2.title = \" Model Comparision \"\n",
        "ptable2.field_names = ['Model Name','Hyperparameter Tunning', 'categorical_crossentropy', 'Accuracy']\n",
        "\n",
        "print(\"\\n\\n                                    Deep Learning LSTM Model Comparision                                       \")\n",
        "ptable2.add_row([\"LSTM With 1_Layer(neurons:32)\",\"Done\",\"0.47\", \"0.90\"])\n",
        "ptable2.add_row([\"LSTM With 2_Layer(neurons:48, neurons:32)\",\"Done\",\"0.39\", \"0.90\"])\n",
        "print(ptable2)"
      ],
      "metadata": {
        "colab": {
          "base_uri": "https://localhost:8080/"
        },
        "id": "8ri4qOv7nl9e",
        "outputId": "949f2b5e-6d7d-4af2-d206-a11edffb627a"
      },
      "execution_count": null,
      "outputs": [
        {
          "output_type": "stream",
          "name": "stdout",
          "text": [
            "\n",
            "\n",
            " ********** Machine Learning Model Comparision ************\n",
            "+---------------------------------------------------------+\n",
            "|                    Model Comparision                    |\n",
            "+---------------------+------------------------+----------+\n",
            "|      Model Name     | Hyperparameter Tunning | Accuracy |\n",
            "+---------------------+------------------------+----------+\n",
            "| Logistic Regression |          Done          |  95.83%  |\n",
            "|     Linear SVC      |          Done          |  96.47%  |\n",
            "|  rbf SVM classifier |          Done          |  96.27%  |\n",
            "|     DecisionTree    |          Done          |  86.46%  |\n",
            "|    Random Forest    |          Done          |  92.6%   |\n",
            "+---------------------+------------------------+----------+\n",
            "\n",
            "\n",
            "                                    Deep Learning LSTM Model Comparision                                       \n",
            "+----------------------------------------------------------------------------------------------------------+\n",
            "|                                            Model Comparision                                             |\n",
            "+-------------------------------------------+------------------------+--------------------------+----------+\n",
            "|                 Model Name                | Hyperparameter Tunning | categorical_crossentropy | Accuracy |\n",
            "+-------------------------------------------+------------------------+--------------------------+----------+\n",
            "|       LSTM With 1_Layer(neurons:32)       |          Done          |           0.47           |   0.90   |\n",
            "| LSTM With 2_Layer(neurons:48, neurons:32) |          Done          |           0.39           |   0.90   |\n",
            "| LSTM With 2_Layer(neurons:64, neurons:48) |          Done          |           0.27           |   0.91   |\n",
            "+-------------------------------------------+------------------------+--------------------------+----------+\n"
          ]
        }
      ]
    }
  ]
}